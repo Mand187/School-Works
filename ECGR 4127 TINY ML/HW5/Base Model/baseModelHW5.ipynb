{
 "cells": [
  {
   "cell_type": "markdown",
   "id": "2cea5934",
   "metadata": {},
   "source": [
    "# HomeWork 5 Juypter Book\n",
    "\n",
    "# Matthew Anderson | 801203905\n",
    "\n",
    "# Github https://github.com/Mand187/IOT-ML-Tiny-ML-\n"
   ]
  },
  {
   "cell_type": "markdown",
   "id": "fdb2fada",
   "metadata": {},
   "source": [
    "This homework is primarily meant to work towards Project 2, and secondarily to explore some aspects of the regularization topics covered in class.  This is an individual assignment, even if you are doing the project in a group.  There is no code submission for this assignment, just a document describing your results.\n",
    "\n",
    "You can use this python file Download this python fileas a starting point.  Read through the code and make sure you understand what it does.\n",
    "\n",
    "Choose two keywords from the Google-30 dataset and build a model to detect those two words as well as a \"silence\" and \"unknown\" category.  You can use either the \"mini\" or \"full\" version of the speech commands dataset.  The mini version is smaller, so generally runs faster, but also generally gives worse results.  For this homework, you may want to use the smaller \"mini\" dataset, then switch to the full set when your project work is nearing its final training runs.\n",
    "Start by finding a model architecture that gets you at least 80% training accuracy.  Include an English description of the model and the model.summary() output, as well as the training curves, showing 80% training accuracy and your validation accuracy.\n",
    "What are the false positive and false negative rates for your two words?\n",
    "Either increase the model capacity or decrease the amount of data until you see at least at 10 percentage-point difference between the training accuracy and test-set accuracy.  Describe what changes you made.\n",
    "Apply both L1 and L2 kernel regularization (in two separate training runs), both with a coefficient of 0.01.  Did either of these reduce the difference between training and test accuracy?  Did either improve the test accuracy?\n",
    "Measure the sparsity -- the fraction of values that are ~0 -- in each layer of each of the three resulting models, and build a table.  For this purpose, define ~0 as having an absoliute value less than 0.01x of the largest absolute value in the layer.  Discuss the results.\n",
    "Limit one of your target words to 25 samples and the other to 250 samples.  Re-train and measure the FPR and FNR of both words.  Use whatever regularization you like in this step.  Describe your results and what regularization you used.\n",
    "Experiment some and determine how much data you need to reach a FPR<0.2 and TPR>0.75.  Describe your results."
   ]
  },
  {
   "cell_type": "code",
   "execution_count": 1,
   "id": "ddf5b6ba",
   "metadata": {},
   "outputs": [
    {
     "name": "stdout",
     "output_type": "stream",
     "text": [
      "2.19.0\n"
     ]
    }
   ],
   "source": [
    "# TensorFlow and tf.keras\n",
    "import tensorflow as tf\n",
    "from tensorflow.keras import Input, layers\n",
    "from tensorflow.keras import models\n",
    "from tensorflow.keras import preprocessing\n",
    "from tensorflow.lite.experimental.microfrontend.python.ops import audio_microfrontend_op as frontend_op\n",
    "print(tf.__version__)\n",
    "\n",
    "# Helper libraries\n",
    "import numpy as np\n",
    "import matplotlib.pyplot as plt\n",
    "import seaborn as sns\n",
    "\n",
    "try:\n",
    "    in_notebook = 'ipykernel' in sys.modules\n",
    "except:\n",
    "    in_notebook = False\n",
    "\n",
    "if in_notebook:\n",
    "  from tqdm.notebook import tqdm\n",
    "else:\n",
    "  from tqdm import tqdm \n",
    "\n",
    "import os, glob, pathlib, time, random\n",
    "\n",
    "from datetime import datetime as dt\n",
    "from IPython import display\n",
    "import platform"
   ]
  },
  {
   "cell_type": "code",
   "execution_count": 2,
   "id": "d71f95e6",
   "metadata": {},
   "outputs": [],
   "source": [
    "# Set seed for experiment reproducibility\n",
    "seed = 42\n",
    "tf.random.set_seed(seed)\n",
    "np.random.seed(seed)"
   ]
  },
  {
   "cell_type": "code",
   "execution_count": 3,
   "id": "c0b1052f",
   "metadata": {},
   "outputs": [
    {
     "name": "stdout",
     "output_type": "stream",
     "text": [
      "FFT window length = 1024\n"
     ]
    }
   ],
   "source": [
    "i16min = -2**15\n",
    "i16max = 2**15-1\n",
    "fsamp = 16000 # sampling rate\n",
    "wave_length_ms = 1000 # 1000 => 1 sec of audio\n",
    "wave_length_samps = int(wave_length_ms*fsamp/1000)\n",
    "\n",
    "# you can change these next three\n",
    "window_size_ms=64 \n",
    "window_step_ms=48\n",
    "num_filters = 32\n",
    "batch_size = 32\n",
    "use_microfrontend = True # recommended, but you can use another feature extractor if you like\n",
    "\n",
    "## For HW5 only mini-speech dataset is needed\n",
    "dataset = 'mini-speech'\n",
    "# dataset = 'full-speech-files' # use the full speech commands stored as files \n",
    "\n",
    "commands = ['down', 'stop'] ## Change this line for your custom keywords\n",
    "\n",
    "# limit the instances of each command in the training set to simulate limited data\n",
    "limit_positive_samples = True\n",
    "max_wavs_0 = 50  # use no more than ~ samples of commands[0]\n",
    "max_wavs_1 = 250  # use no more than ~ samples of commands[1]\n",
    "\n",
    "silence_str = \"_silence\"  # label for <no speech detected>\n",
    "unknown_str = \"_unknown\"  # label for <speech detected but not one of the target words>\n",
    "EPOCHS = 5\n",
    "\n",
    "print(f\"FFT window length = {int(window_size_ms * fsamp / 1000)}\")\n",
    "\n",
    "might_be = {True:\"IS\", False:\"IS NOT\"} # useful for formatting conditional sentences"
   ]
  },
  {
   "cell_type": "code",
   "execution_count": 4,
   "id": "ddfdd680",
   "metadata": {},
   "outputs": [],
   "source": [
    "home_dir = os.getcwd()\n",
    "\n",
    "if dataset == 'mini-speech':\n",
    "  data_dir = pathlib.Path(os.path.join(home_dir, 'data', 'mini_speech_commands'))\n",
    "  if not data_dir.exists():\n",
    "    tf.keras.utils.get_file('mini_speech_commands.zip',\n",
    "          origin=\"http://storage.googleapis.com/download.tensorflow.org/data/mini_speech_commands.zip\",\n",
    "          extract=True, cache_dir='.', cache_subdir='data'\n",
    "                           )\n",
    "  # commands = np.array(tf.io.gfile.listdir(str(data_dir))) # if you want to use all the command words\n",
    "  # commands = commands[commands != 'README.md']\n",
    "elif dataset == 'full-speech-files':\n",
    "  data_dir = pathlib.Path(os.path.join(home_dir, 'data', 'speech_commands_v0.02'))\n",
    "  if not data_dir.exists():\n",
    "    raise RuntimeError(f\"Either download the speech commands files to {data_dir} or change this code to where you have them\")\n",
    "else:\n",
    "  raise RuntimeError('dataset should either be \"mini-speech\" or \"full-speech-files\"')"
   ]
  },
  {
   "cell_type": "code",
   "execution_count": 5,
   "id": "3e8f37c2",
   "metadata": {},
   "outputs": [
    {
     "name": "stdout",
     "output_type": "stream",
     "text": [
      "label_list: ['_silence', '_unknown', 'down', 'stop']\n"
     ]
    }
   ],
   "source": [
    "label_list = commands.copy()\n",
    "label_list.insert(0, silence_str)\n",
    "label_list.insert(1, unknown_str)\n",
    "print('label_list:', label_list)"
   ]
  },
  {
   "cell_type": "code",
   "execution_count": 6,
   "id": "b86c32a7",
   "metadata": {},
   "outputs": [
    {
     "name": "stdout",
     "output_type": "stream",
     "text": [
      "Number of total examples: 8000\n",
      "Directory of audio files: c:\\Users\\Matt\\OneDrive\\Documents\\Github-IOT-ML-Tiny-ML-\\HW5\\data\\mini_speech_commands\n",
      "Number of audio files: 8000\n",
      "Example file tensor: c:\\Users\\Matt\\OneDrive\\Documents\\Github-IOT-ML-Tiny-ML-\\HW5\\data\\mini_speech_commands\\stop\\f06190c1_nohash_1.wav\n"
     ]
    }
   ],
   "source": [
    "if dataset in ['mini-speech', 'full-speech-files']:\n",
    "    filenames = glob.glob(os.path.join(str(data_dir), '*', '*.wav')) \n",
    "  \n",
    "    random.shuffle(filenames)\n",
    "    num_samples = len(filenames)\n",
    "    print('Number of total examples:', num_samples)\n",
    "    # print('Number of examples per label:',\n",
    "    #       len(tf.io.gfile.listdir(str(data_dir/commands[0]))))\n",
    "    if num_samples > 0:\n",
    "        print('Directory of audio files:', data_dir)\n",
    "        print('Number of audio files:', len(filenames))\n",
    "        print('Example file tensor:', filenames[0])\n",
    "    else:\n",
    "        print('Directory Looked at:', data_dir)\n",
    "        print('No audio files found in the specified directory.')"
   ]
  },
  {
   "cell_type": "code",
   "execution_count": 7,
   "id": "e8fd2ce4",
   "metadata": {},
   "outputs": [
    {
     "name": "stdout",
     "output_type": "stream",
     "text": [
      "Using mini-speech\n",
      "Training set size 6400\n",
      "Validation set size 800\n",
      "Test set size 800\n"
     ]
    }
   ],
   "source": [
    "if dataset == 'mini-speech':\n",
    "  print('Using mini-speech')\n",
    "  num_train_files = int(0.8*num_samples) \n",
    "  num_val_files = int(0.1*num_samples) \n",
    "  num_test_files = num_samples - num_train_files - num_val_files\n",
    "  train_files = filenames[:num_train_files]\n",
    "  val_files = filenames[num_train_files: num_train_files + num_val_files]\n",
    "  test_files = filenames[-num_test_files:]\n",
    "elif dataset == 'full-speech-files':  \n",
    "  # the full speech-commands set lists which files are to be used\n",
    "  # as test and validation data; train with everything else\n",
    "  fname_val_files = os.path.join(data_dir, 'validation_list.txt')\n",
    "  with open(fname_val_files) as fpi_val:\n",
    "    val_files = fpi_val.read().splitlines()\n",
    "  # validation_list.txt only lists partial paths\n",
    "  val_files = [os.path.join(data_dir, fn) for fn in val_files]\n",
    "  fname_test_files = os.path.join(data_dir, 'testing_list.txt')\n",
    "  with open(fname_test_files) as fpi_tst:\n",
    "    test_files = fpi_tst.read().splitlines()\n",
    "  # testing_list.txt only lists partial paths\n",
    "  test_files = [os.path.join(data_dir, fn).rstrip() for fn in test_files]    \n",
    "    \n",
    "  if os.sep != '/': \n",
    "    # the files validation_list.txt and testing_list.txt use '/' as path separator\n",
    "    # if we're on a windows machine, replace the '/' with the correct separator\n",
    "    val_files = [fn.replace('/', os.sep) for fn in val_files]\n",
    "    test_files = [fn.replace('/', os.sep) for fn in test_files] \n",
    "\n",
    "  # convert the TF tensor filenames into an array of strings so we can use basic python constructs\n",
    "  # train_files = [f.decode('utf8') for f in filenames.numpy()]\n",
    "\n",
    "  \n",
    "  # don't train with the _background_noise_ files; exclude when directory name starts with '_'\n",
    "  train_files = [f for f in filenames if f.split(os.sep)[-2][0] != '_']\n",
    "  # validation and test files are listed explicitly in *_list.txt; train with everything else\n",
    "  train_files = list(set(train_files) - set(test_files) - set(val_files))\n",
    "   \n",
    "elif dataset == 'full-speech-ds':  \n",
    "    print(\"Using full-speech-ds. This is in progress.  Good luck!\")\n",
    "else:\n",
    "  raise ValueError(\"dataset must be either full-speech-files, full-speech-ds or mini-speech\")\n",
    "print('Training set size', len(train_files))\n",
    "print('Validation set size', len(val_files))\n",
    "print('Test set size', len(test_files))\n"
   ]
  },
  {
   "cell_type": "code",
   "execution_count": 8,
   "id": "99c42f71",
   "metadata": {},
   "outputs": [],
   "source": [
    "## Remove some of the target words if we're experimenting with limited data\n",
    "\n",
    "if limit_positive_samples:\n",
    "  if dataset not in ['mini-speech', 'full-speech-files']:\n",
    "    raise RuntimeError(\"Right now, limit_positive_samples is only implemented if drawing the data from files\")\n",
    "  num_files_cmd0 = 0\n",
    "  num_files_cmd1 = 0\n",
    "  # elements of train_files look like this:\n",
    "  # '/path/to/data/speech_commands_0_2_root/right/196e84b7_nohash_0.wav'\n",
    "  # so if we split on '/' (or '\\' in windows), the 2nd to last element is the label\n",
    "  for idx,f in enumerate(train_files):\n",
    "    if f.split(os.sep)[-2] == commands[0]:\n",
    "      if num_files_cmd0 >= max_wavs_0:\n",
    "        train_files.pop(idx)\n",
    "      else:\n",
    "        num_files_cmd0 += 1\n",
    "    elif f.split(os.sep)[-2] == commands[1]:\n",
    "      if num_files_cmd1 >= max_wavs_1:\n",
    "        train_files.pop(idx)\n",
    "      else:\n",
    "        num_files_cmd1 += 1"
   ]
  },
  {
   "cell_type": "code",
   "execution_count": 9,
   "id": "77efb9da",
   "metadata": {},
   "outputs": [
    {
     "name": "stdout",
     "output_type": "stream",
     "text": [
      "['c:\\\\Users\\\\Matt\\\\OneDrive\\\\Documents\\\\Github-IOT-ML-Tiny-ML-\\\\HW5\\\\data\\\\mini_speech_commands\\\\stop\\\\f06190c1_nohash_1.wav', 'c:\\\\Users\\\\Matt\\\\OneDrive\\\\Documents\\\\Github-IOT-ML-Tiny-ML-\\\\HW5\\\\data\\\\mini_speech_commands\\\\right\\\\b0bad4a9_nohash_1.wav', 'c:\\\\Users\\\\Matt\\\\OneDrive\\\\Documents\\\\Github-IOT-ML-Tiny-ML-\\\\HW5\\\\data\\\\mini_speech_commands\\\\down\\\\106a6183_nohash_3.wav', 'c:\\\\Users\\\\Matt\\\\OneDrive\\\\Documents\\\\Github-IOT-ML-Tiny-ML-\\\\HW5\\\\data\\\\mini_speech_commands\\\\up\\\\b93528e3_nohash_0.wav', 'c:\\\\Users\\\\Matt\\\\OneDrive\\\\Documents\\\\Github-IOT-ML-Tiny-ML-\\\\HW5\\\\data\\\\mini_speech_commands\\\\no\\\\2e0d80f7_nohash_2.wav']\n",
      "['c:\\\\Users\\\\Matt\\\\OneDrive\\\\Documents\\\\Github-IOT-ML-Tiny-ML-\\\\HW5\\\\data\\\\mini_speech_commands\\\\stop\\\\620ff0fa_nohash_0.wav', 'c:\\\\Users\\\\Matt\\\\OneDrive\\\\Documents\\\\Github-IOT-ML-Tiny-ML-\\\\HW5\\\\data\\\\mini_speech_commands\\\\down\\\\bd061bef_nohash_1.wav', 'c:\\\\Users\\\\Matt\\\\OneDrive\\\\Documents\\\\Github-IOT-ML-Tiny-ML-\\\\HW5\\\\data\\\\mini_speech_commands\\\\up\\\\bdee441c_nohash_3.wav', 'c:\\\\Users\\\\Matt\\\\OneDrive\\\\Documents\\\\Github-IOT-ML-Tiny-ML-\\\\HW5\\\\data\\\\mini_speech_commands\\\\go\\\\26b28ea7_nohash_0.wav', 'c:\\\\Users\\\\Matt\\\\OneDrive\\\\Documents\\\\Github-IOT-ML-Tiny-ML-\\\\HW5\\\\data\\\\mini_speech_commands\\\\stop\\\\afabfa0e_nohash_0.wav']\n",
      "['c:\\\\Users\\\\Matt\\\\OneDrive\\\\Documents\\\\Github-IOT-ML-Tiny-ML-\\\\HW5\\\\data\\\\mini_speech_commands\\\\go\\\\f953e1af_nohash_3.wav', 'c:\\\\Users\\\\Matt\\\\OneDrive\\\\Documents\\\\Github-IOT-ML-Tiny-ML-\\\\HW5\\\\data\\\\mini_speech_commands\\\\stop\\\\2aa787cf_nohash_0.wav', 'c:\\\\Users\\\\Matt\\\\OneDrive\\\\Documents\\\\Github-IOT-ML-Tiny-ML-\\\\HW5\\\\data\\\\mini_speech_commands\\\\down\\\\377e916b_nohash_1.wav', 'c:\\\\Users\\\\Matt\\\\OneDrive\\\\Documents\\\\Github-IOT-ML-Tiny-ML-\\\\HW5\\\\data\\\\mini_speech_commands\\\\up\\\\67961766_nohash_0.wav', 'c:\\\\Users\\\\Matt\\\\OneDrive\\\\Documents\\\\Github-IOT-ML-Tiny-ML-\\\\HW5\\\\data\\\\mini_speech_commands\\\\right\\\\8eb4a1bf_nohash_1.wav']\n"
     ]
    }
   ],
   "source": [
    "print(train_files[:5])\n",
    "print(val_files[:5])\n",
    "print(test_files[:5])"
   ]
  },
  {
   "cell_type": "code",
   "execution_count": 10,
   "id": "f1303bf4",
   "metadata": {},
   "outputs": [],
   "source": [
    "def decode_audio(audio_binary):\n",
    "    audio, _ = tf.audio.decode_wav(audio_binary)\n",
    "    return tf.squeeze(audio, axis=-1)  # optional: remove channels dimension if 1D\n",
    "\n",
    "def get_waveform_and_label(file_path):\n",
    "    label = get_label(file_path)\n",
    "    audio_binary = tf.io.read_file(file_path)\n",
    "    waveform = decode_audio(audio_binary)\n",
    "    return waveform, label\n",
    "\n",
    "def get_label(file_path):\n",
    "  parts = tf.strings.split(file_path, os.path.sep)\n",
    "  in_set = tf.reduce_any(parts[-2] == label_list)\n",
    "  label = tf.cond(in_set, lambda: parts[-2], lambda: tf.constant(unknown_str))\n",
    "  # print(f\"parts[-2] = {parts[-2]}, in_set = {in_set}, label = {label}\")\n",
    "  # Note: You'll use indexing here instead of tuple unpacking to enable this \n",
    "  # to work in a TensorFlow graph.\n",
    "  return  label # parts[-2]\n",
    "\n",
    "\n",
    "def get_spectrogram(waveform):\n",
    "  # Concatenate audio with padding so that all audio clips will be of the \n",
    "  # same length (16000 samples)\n",
    "  zero_padding = tf.zeros([wave_length_samps] - tf.shape(waveform), dtype=tf.int16)\n",
    "  waveform = tf.cast(0.5*waveform*(i16max-i16min), tf.int16)  # scale float [-1,+1]=>INT16\n",
    "  equal_length = tf.concat([waveform, zero_padding], 0)\n",
    "  ## Make sure these labels correspond to those used in micro_features_micro_features_generator.cpp\n",
    "  spectrogram = frontend_op.audio_microfrontend(equal_length, sample_rate=fsamp, num_channels=num_filters,\n",
    "                                    window_size=window_size_ms, window_step=window_step_ms)\n",
    "  return spectrogram\n",
    "\n",
    "\n",
    "# Function to convert each waveform in a set into a spectrogram, then convert those\n",
    "# back into a dataset using `from_tensor_slices`.  (We should be able to use \n",
    "# `wav_ds.map(get_spectrogram_and_label_id)`, but there is a problem with that process).\n",
    "#    \n",
    "\n",
    "\n",
    "def create_silence_dataset(num_waves, samples_per_wave, rms_noise_range=[0.01,0.2], silent_label=silence_str):\n",
    "    # create num_waves waveforms of white gaussian noise, with rms level drawn from rms_noise_range\n",
    "    # to act as the \"silence\" dataset\n",
    "    rng = np.random.default_rng()\n",
    "    rms_noise_levels = rng.uniform(low=rms_noise_range[0], high=rms_noise_range[1], size=num_waves)\n",
    "    rand_waves = np.zeros((num_waves, samples_per_wave), dtype=np.float32) # pre-allocate memory\n",
    "    for i in range(num_waves):\n",
    "        rand_waves[i,:] = rms_noise_levels[i]*rng.standard_normal(samples_per_wave)\n",
    "    labels = [silent_label]*num_waves\n",
    "    return tf.data.Dataset.from_tensor_slices((rand_waves, labels))  \n",
    "\n",
    "def wavds2specds(waveform_ds, verbose=True):\n",
    "  wav, label = next(waveform_ds.as_numpy_iterator())\n",
    "  one_spec = get_spectrogram(wav)\n",
    "  one_spec = tf.expand_dims(one_spec, axis=0)  # add a 'batch' dimension at the front\n",
    "  one_spec = tf.expand_dims(one_spec, axis=-1) # add a singleton 'channel' dimension at the back    \n",
    "\n",
    "  num_waves = 0 # count the waveforms so we can allocate the memory\n",
    "  for wav, label in waveform_ds:\n",
    "    num_waves += 1\n",
    "  print(f\"About to create spectrograms from {num_waves} waves\")\n",
    "  spec_shape = (num_waves,) + one_spec.shape[1:] \n",
    "  spec_grams = np.nan * np.zeros(spec_shape)  # allocate memory\n",
    "  labels = np.nan * np.zeros(num_waves)\n",
    "  idx = 0\n",
    "  for wav, label in waveform_ds:    \n",
    "    if verbose and idx % 250 == 0:\n",
    "      print(f\"\\r {idx} wavs processed\", end='')\n",
    "    spectrogram = get_spectrogram(wav)\n",
    "    # TF conv layer expect inputs structured as 4D (batch_size, height, width, channels)\n",
    "    # the microfrontend returns 2D tensors (freq, time), so we need to \n",
    "    spectrogram = tf.expand_dims(spectrogram, axis=0)  # add a 'batch' dimension at the front\n",
    "    spectrogram = tf.expand_dims(spectrogram, axis=-1) # add a singleton 'channel' dimension at the back\n",
    "    spec_grams[idx, ...] = spectrogram\n",
    "    new_label = label.numpy().decode('utf8')\n",
    "    new_label_id = np.argmax(new_label == np.array(label_list))    \n",
    "    labels[idx] = new_label_id # for numeric labels\n",
    "    # labels.append(new_label) # for string labels\n",
    "    idx += 1\n",
    "  labels = np.array(labels, dtype=int)\n",
    "  output_ds = tf.data.Dataset.from_tensor_slices((spec_grams, labels))  \n",
    "  return output_ds\n",
    "\n",
    "def copy_with_noise(ds_input, rms_level=0.25):\n",
    "  rng = tf.random.Generator.from_seed(1234)\n",
    "  wave_shape = tf.constant((wave_length_samps,))\n",
    "  def add_noise(waveform, label):\n",
    "    noise = rms_level*rng.normal(shape=wave_shape)\n",
    "    zero_padding = tf.zeros([wave_length_samps] - tf.shape(waveform), dtype=tf.float32)\n",
    "    waveform = tf.concat([waveform, zero_padding], 0)    \n",
    "    noisy_wave = waveform + noise\n",
    "    return noisy_wave, label\n",
    "\n",
    "  return ds_input.map(add_noise)\n",
    "\n",
    "\n",
    "def pad_16000(waveform, label):\n",
    "    zero_padding = tf.zeros([wave_length_samps] - tf.shape(waveform), dtype=tf.float32)\n",
    "    waveform = tf.concat([waveform, zero_padding], 0)        \n",
    "    return waveform, label\n",
    "\n",
    "def count_labels(dataset):\n",
    "    counts = {}\n",
    "    for sample in dataset: # sample will be a tuple: (input, label) or (input, label, weight)\n",
    "        lbl = sample[1]\n",
    "        if lbl.dtype == tf.string:\n",
    "            label = lbl.numpy().decode('utf-8')\n",
    "        else:\n",
    "            label = lbl.numpy()\n",
    "        if label in counts:\n",
    "            counts[label] += 1\n",
    "        else:\n",
    "            counts[label] = 1\n",
    "    return counts\n",
    "\n",
    "def is_batched(ds):\n",
    "    ## This is probably not very robust\n",
    "    try:\n",
    "        ds.unbatch()  # does not actually change ds. For that we would ds=ds.unbatch()\n",
    "    except:\n",
    "        return False # we'll assume that the error on unbatching is because the ds is not batched.\n",
    "    else:\n",
    "        return True  # if we were able to unbatch it then it must have been batched (??)\n",
    "    \n",
    "\n",
    "# Collect what we did to generate the training dataset into a \n",
    "# function, so we can repeat with the validation and test sets.\n",
    "def preprocess_dataset(files, num_silent=None, noisy_reps_of_known=None):\n",
    "  \"\"\"\n",
    "  preprocess_dataset(files, num_silent=None, noisy_reps_of_known=None)\n",
    "  files -- list of files\n",
    "  noisy_reps_of_known either None, or a list of rms noise levels\n",
    "      For every target word in the data set, 1 copy will be created with each level \n",
    "      of noise added to it.  So [0.1, 0.2] will add 2x noisy copies of the target words \n",
    "  \"\"\"\n",
    "  if num_silent is None:\n",
    "    num_silent = int(0.2*len(files))+1\n",
    "  print(f\"Processing {len(files)} files\")\n",
    "  files_ds = tf.data.Dataset.from_tensor_slices(files)\n",
    "  waveform_ds = files_ds.map(get_waveform_and_label)\n",
    "  if noisy_reps_of_known is not None:\n",
    "    # create a few copies of only the target words to balance the distribution\n",
    "    # create a tmp dataset with only the target words\n",
    "    ds_only_cmds = waveform_ds.filter(lambda w,l: tf.reduce_any(l == commands))\n",
    "    for noise_level in noisy_reps_of_known:\n",
    "       waveform_ds = waveform_ds.concatenate(copy_with_noise(ds_only_cmds, rms_level=noise_level))\n",
    "  if num_silent > 0:\n",
    "    silent_wave_ds = create_silence_dataset(num_silent, wave_length_samps, \n",
    "                                            rms_noise_range=[0.01,0.2], \n",
    "                                            silent_label=silence_str)\n",
    "    waveform_ds = waveform_ds.concatenate(silent_wave_ds)\n",
    "  print(f\"Added {num_silent} silent wavs and ?? noisy wavs\")\n",
    "  num_waves = 0\n",
    "  output_ds = wavds2specds(waveform_ds)\n",
    "  return output_ds\n"
   ]
  },
  {
   "cell_type": "code",
   "execution_count": 11,
   "id": "4959ffb1",
   "metadata": {},
   "outputs": [
    {
     "name": "stdout",
     "output_type": "stream",
     "text": [
      "About to create spectrograms from 5364 waves\n",
      " 5250 wavs processedWe have 5364/800/800 training/validation/test files\n"
     ]
    }
   ],
   "source": [
    "AUTOTUNE = tf.data.experimental.AUTOTUNE\n",
    "num_train_files = len(train_files)\n",
    "files_ds = tf.data.Dataset.from_tensor_slices(train_files)\n",
    "waveform_ds = files_ds.map(get_waveform_and_label, num_parallel_calls=AUTOTUNE)\n",
    "train_ds = wavds2specds(waveform_ds)\n",
    "\n",
    "print(f\"We have {len(train_files)}/{len(val_files)}/{len(test_files)} training/validation/test files\")\n",
    "\n",
    "# train_files = train_files[0:10000] for a quick test run\n"
   ]
  },
  {
   "cell_type": "code",
   "execution_count": 12,
   "id": "2d45f13f",
   "metadata": {},
   "outputs": [
    {
     "name": "stdout",
     "output_type": "stream",
     "text": [
      "Processing 5364 files\n",
      "Added 1073 silent wavs and ?? noisy wavs\n",
      "About to create spectrograms from 10813 waves\n",
      " 10750 wavs processedProcessing 800 files\n",
      "Added 161 silent wavs and ?? noisy wavs\n",
      "About to create spectrograms from 961 waves\n",
      " 750 wavs processedProcessing 800 files\n",
      "Added 161 silent wavs and ?? noisy wavs\n",
      "About to create spectrograms from 961 waves\n",
      " 750 wavs processedTook time: 20.9588680267334\n"
     ]
    }
   ],
   "source": [
    "t0 = time.time()\n",
    "# train_ds is already done\n",
    "with tf.device('/CPU:0'): # needed on M1 mac\n",
    "    train_ds = preprocess_dataset(train_files, noisy_reps_of_known=[0.05,0.1,0.15,0.2,0.25, .1, .1, .1])\n",
    "\n",
    "val_ds = preprocess_dataset(val_files)\n",
    "test_ds = preprocess_dataset(test_files)\n",
    "t1 = time.time()\n",
    "print(f\"Took time: {t1-t0}\")"
   ]
  },
  {
   "cell_type": "code",
   "execution_count": 13,
   "id": "c0b46391",
   "metadata": {},
   "outputs": [],
   "source": [
    "train_ds = train_ds.shuffle(int(len(train_files)*1.2))\n",
    "val_ds = val_ds.shuffle(int(len(val_files)*1.2))\n",
    "test_ds = test_ds.shuffle(int(len(test_files)*1.2))\n"
   ]
  },
  {
   "cell_type": "code",
   "execution_count": 14,
   "id": "d8294a88",
   "metadata": {},
   "outputs": [],
   "source": [
    "if not is_batched(train_ds):\n",
    "    train_ds = train_ds.batch(batch_size)\n",
    "if not is_batched(val_ds):\n",
    "    val_ds = val_ds.batch(batch_size)\n",
    "if not is_batched(test_ds):\n",
    "    test_ds = test_ds.batch(batch_size)\n",
    "\n",
    "train_ds = train_ds.cache().prefetch(AUTOTUNE)\n",
    "val_ds = val_ds.cache().prefetch(AUTOTUNE)"
   ]
  },
  {
   "cell_type": "code",
   "execution_count": 15,
   "id": "917af627",
   "metadata": {},
   "outputs": [
    {
     "name": "stdout",
     "output_type": "stream",
     "text": [
      "Input shape: (20, 32, 1)\n"
     ]
    }
   ],
   "source": [
    "for spectrogram, _ in train_ds.take(1):\n",
    "  # take(1) takes 1 *batch*, so we have to select the first \n",
    "  # spectrogram from it, hence the [0]\n",
    "  input_shape = spectrogram.shape[1:]  \n",
    "print('Input shape:', input_shape)\n",
    "num_labels = len(label_list)"
   ]
  },
  {
   "cell_type": "code",
   "execution_count": 16,
   "id": "3e0fa642",
   "metadata": {},
   "outputs": [],
   "source": [
    "def build_model(input_shape):\n",
    "    model = models.Sequential([\n",
    "        layers.Input(shape=input_shape),\n",
    "        layers.Conv2D(32, 3, activation='relu'),\n",
    "        layers.MaxPooling2D(pool_size=(1,2)),\n",
    "        layers.BatchNormalization(),\n",
    "      \n",
    "        layers.Conv2D(64, 3, activation='relu'),\n",
    "        layers.BatchNormalization(),\n",
    "      \n",
    "        layers.Conv2D(128, 3, activation='relu'),\n",
    "        layers.BatchNormalization(),\n",
    "\n",
    "        layers.Conv2D(256, 3, activation='relu'),\n",
    "        layers.BatchNormalization(),\n",
    "      \n",
    "        layers.Conv2D(256, 3, activation='relu'),\n",
    "        layers.BatchNormalization(),\n",
    "      \n",
    "        layers.GlobalMaxPooling2D(),\n",
    "        layers.Dense(num_labels),\n",
    "    ])\n",
    "    model.compile(\n",
    "        optimizer=tf.keras.optimizers.Adam(),\n",
    "        loss=tf.keras.losses.SparseCategoricalCrossentropy(from_logits=True),\n",
    "        metrics=['accuracy'],\n",
    "    )\n",
    "    return model"
   ]
  },
  {
   "cell_type": "code",
   "execution_count": 17,
   "id": "820eca22",
   "metadata": {},
   "outputs": [
    {
     "name": "stdout",
     "output_type": "stream",
     "text": [
      "Input shape: (20, 32, 1)\n"
     ]
    },
    {
     "data": {
      "text/html": [
       "<pre style=\"white-space:pre;overflow-x:auto;line-height:normal;font-family:Menlo,'DejaVu Sans Mono',consolas,'Courier New',monospace\"><span style=\"font-weight: bold\">Model: \"sequential\"</span>\n",
       "</pre>\n"
      ],
      "text/plain": [
       "\u001b[1mModel: \"sequential\"\u001b[0m\n"
      ]
     },
     "metadata": {},
     "output_type": "display_data"
    },
    {
     "data": {
      "text/html": [
       "<pre style=\"white-space:pre;overflow-x:auto;line-height:normal;font-family:Menlo,'DejaVu Sans Mono',consolas,'Courier New',monospace\">┏━━━━━━━━━━━━━━━━━━━━━━━━━━━━━━━━━┳━━━━━━━━━━━━━━━━━━━━━━━━┳━━━━━━━━━━━━━━━┓\n",
       "┃<span style=\"font-weight: bold\"> Layer (type)                    </span>┃<span style=\"font-weight: bold\"> Output Shape           </span>┃<span style=\"font-weight: bold\">       Param # </span>┃\n",
       "┡━━━━━━━━━━━━━━━━━━━━━━━━━━━━━━━━━╇━━━━━━━━━━━━━━━━━━━━━━━━╇━━━━━━━━━━━━━━━┩\n",
       "│ conv2d (<span style=\"color: #0087ff; text-decoration-color: #0087ff\">Conv2D</span>)                 │ (<span style=\"color: #00d7ff; text-decoration-color: #00d7ff\">None</span>, <span style=\"color: #00af00; text-decoration-color: #00af00\">18</span>, <span style=\"color: #00af00; text-decoration-color: #00af00\">30</span>, <span style=\"color: #00af00; text-decoration-color: #00af00\">32</span>)     │           <span style=\"color: #00af00; text-decoration-color: #00af00\">320</span> │\n",
       "├─────────────────────────────────┼────────────────────────┼───────────────┤\n",
       "│ max_pooling2d (<span style=\"color: #0087ff; text-decoration-color: #0087ff\">MaxPooling2D</span>)    │ (<span style=\"color: #00d7ff; text-decoration-color: #00d7ff\">None</span>, <span style=\"color: #00af00; text-decoration-color: #00af00\">18</span>, <span style=\"color: #00af00; text-decoration-color: #00af00\">15</span>, <span style=\"color: #00af00; text-decoration-color: #00af00\">32</span>)     │             <span style=\"color: #00af00; text-decoration-color: #00af00\">0</span> │\n",
       "├─────────────────────────────────┼────────────────────────┼───────────────┤\n",
       "│ batch_normalization             │ (<span style=\"color: #00d7ff; text-decoration-color: #00d7ff\">None</span>, <span style=\"color: #00af00; text-decoration-color: #00af00\">18</span>, <span style=\"color: #00af00; text-decoration-color: #00af00\">15</span>, <span style=\"color: #00af00; text-decoration-color: #00af00\">32</span>)     │           <span style=\"color: #00af00; text-decoration-color: #00af00\">128</span> │\n",
       "│ (<span style=\"color: #0087ff; text-decoration-color: #0087ff\">BatchNormalization</span>)            │                        │               │\n",
       "├─────────────────────────────────┼────────────────────────┼───────────────┤\n",
       "│ conv2d_1 (<span style=\"color: #0087ff; text-decoration-color: #0087ff\">Conv2D</span>)               │ (<span style=\"color: #00d7ff; text-decoration-color: #00d7ff\">None</span>, <span style=\"color: #00af00; text-decoration-color: #00af00\">16</span>, <span style=\"color: #00af00; text-decoration-color: #00af00\">13</span>, <span style=\"color: #00af00; text-decoration-color: #00af00\">64</span>)     │        <span style=\"color: #00af00; text-decoration-color: #00af00\">18,496</span> │\n",
       "├─────────────────────────────────┼────────────────────────┼───────────────┤\n",
       "│ batch_normalization_1           │ (<span style=\"color: #00d7ff; text-decoration-color: #00d7ff\">None</span>, <span style=\"color: #00af00; text-decoration-color: #00af00\">16</span>, <span style=\"color: #00af00; text-decoration-color: #00af00\">13</span>, <span style=\"color: #00af00; text-decoration-color: #00af00\">64</span>)     │           <span style=\"color: #00af00; text-decoration-color: #00af00\">256</span> │\n",
       "│ (<span style=\"color: #0087ff; text-decoration-color: #0087ff\">BatchNormalization</span>)            │                        │               │\n",
       "├─────────────────────────────────┼────────────────────────┼───────────────┤\n",
       "│ conv2d_2 (<span style=\"color: #0087ff; text-decoration-color: #0087ff\">Conv2D</span>)               │ (<span style=\"color: #00d7ff; text-decoration-color: #00d7ff\">None</span>, <span style=\"color: #00af00; text-decoration-color: #00af00\">14</span>, <span style=\"color: #00af00; text-decoration-color: #00af00\">11</span>, <span style=\"color: #00af00; text-decoration-color: #00af00\">128</span>)    │        <span style=\"color: #00af00; text-decoration-color: #00af00\">73,856</span> │\n",
       "├─────────────────────────────────┼────────────────────────┼───────────────┤\n",
       "│ batch_normalization_2           │ (<span style=\"color: #00d7ff; text-decoration-color: #00d7ff\">None</span>, <span style=\"color: #00af00; text-decoration-color: #00af00\">14</span>, <span style=\"color: #00af00; text-decoration-color: #00af00\">11</span>, <span style=\"color: #00af00; text-decoration-color: #00af00\">128</span>)    │           <span style=\"color: #00af00; text-decoration-color: #00af00\">512</span> │\n",
       "│ (<span style=\"color: #0087ff; text-decoration-color: #0087ff\">BatchNormalization</span>)            │                        │               │\n",
       "├─────────────────────────────────┼────────────────────────┼───────────────┤\n",
       "│ conv2d_3 (<span style=\"color: #0087ff; text-decoration-color: #0087ff\">Conv2D</span>)               │ (<span style=\"color: #00d7ff; text-decoration-color: #00d7ff\">None</span>, <span style=\"color: #00af00; text-decoration-color: #00af00\">12</span>, <span style=\"color: #00af00; text-decoration-color: #00af00\">9</span>, <span style=\"color: #00af00; text-decoration-color: #00af00\">256</span>)     │       <span style=\"color: #00af00; text-decoration-color: #00af00\">295,168</span> │\n",
       "├─────────────────────────────────┼────────────────────────┼───────────────┤\n",
       "│ batch_normalization_3           │ (<span style=\"color: #00d7ff; text-decoration-color: #00d7ff\">None</span>, <span style=\"color: #00af00; text-decoration-color: #00af00\">12</span>, <span style=\"color: #00af00; text-decoration-color: #00af00\">9</span>, <span style=\"color: #00af00; text-decoration-color: #00af00\">256</span>)     │         <span style=\"color: #00af00; text-decoration-color: #00af00\">1,024</span> │\n",
       "│ (<span style=\"color: #0087ff; text-decoration-color: #0087ff\">BatchNormalization</span>)            │                        │               │\n",
       "├─────────────────────────────────┼────────────────────────┼───────────────┤\n",
       "│ conv2d_4 (<span style=\"color: #0087ff; text-decoration-color: #0087ff\">Conv2D</span>)               │ (<span style=\"color: #00d7ff; text-decoration-color: #00d7ff\">None</span>, <span style=\"color: #00af00; text-decoration-color: #00af00\">10</span>, <span style=\"color: #00af00; text-decoration-color: #00af00\">7</span>, <span style=\"color: #00af00; text-decoration-color: #00af00\">256</span>)     │       <span style=\"color: #00af00; text-decoration-color: #00af00\">590,080</span> │\n",
       "├─────────────────────────────────┼────────────────────────┼───────────────┤\n",
       "│ batch_normalization_4           │ (<span style=\"color: #00d7ff; text-decoration-color: #00d7ff\">None</span>, <span style=\"color: #00af00; text-decoration-color: #00af00\">10</span>, <span style=\"color: #00af00; text-decoration-color: #00af00\">7</span>, <span style=\"color: #00af00; text-decoration-color: #00af00\">256</span>)     │         <span style=\"color: #00af00; text-decoration-color: #00af00\">1,024</span> │\n",
       "│ (<span style=\"color: #0087ff; text-decoration-color: #0087ff\">BatchNormalization</span>)            │                        │               │\n",
       "├─────────────────────────────────┼────────────────────────┼───────────────┤\n",
       "│ global_max_pooling2d            │ (<span style=\"color: #00d7ff; text-decoration-color: #00d7ff\">None</span>, <span style=\"color: #00af00; text-decoration-color: #00af00\">256</span>)            │             <span style=\"color: #00af00; text-decoration-color: #00af00\">0</span> │\n",
       "│ (<span style=\"color: #0087ff; text-decoration-color: #0087ff\">GlobalMaxPooling2D</span>)            │                        │               │\n",
       "├─────────────────────────────────┼────────────────────────┼───────────────┤\n",
       "│ dense (<span style=\"color: #0087ff; text-decoration-color: #0087ff\">Dense</span>)                   │ (<span style=\"color: #00d7ff; text-decoration-color: #00d7ff\">None</span>, <span style=\"color: #00af00; text-decoration-color: #00af00\">4</span>)              │         <span style=\"color: #00af00; text-decoration-color: #00af00\">1,028</span> │\n",
       "└─────────────────────────────────┴────────────────────────┴───────────────┘\n",
       "</pre>\n"
      ],
      "text/plain": [
       "┏━━━━━━━━━━━━━━━━━━━━━━━━━━━━━━━━━┳━━━━━━━━━━━━━━━━━━━━━━━━┳━━━━━━━━━━━━━━━┓\n",
       "┃\u001b[1m \u001b[0m\u001b[1mLayer (type)                   \u001b[0m\u001b[1m \u001b[0m┃\u001b[1m \u001b[0m\u001b[1mOutput Shape          \u001b[0m\u001b[1m \u001b[0m┃\u001b[1m \u001b[0m\u001b[1m      Param #\u001b[0m\u001b[1m \u001b[0m┃\n",
       "┡━━━━━━━━━━━━━━━━━━━━━━━━━━━━━━━━━╇━━━━━━━━━━━━━━━━━━━━━━━━╇━━━━━━━━━━━━━━━┩\n",
       "│ conv2d (\u001b[38;5;33mConv2D\u001b[0m)                 │ (\u001b[38;5;45mNone\u001b[0m, \u001b[38;5;34m18\u001b[0m, \u001b[38;5;34m30\u001b[0m, \u001b[38;5;34m32\u001b[0m)     │           \u001b[38;5;34m320\u001b[0m │\n",
       "├─────────────────────────────────┼────────────────────────┼───────────────┤\n",
       "│ max_pooling2d (\u001b[38;5;33mMaxPooling2D\u001b[0m)    │ (\u001b[38;5;45mNone\u001b[0m, \u001b[38;5;34m18\u001b[0m, \u001b[38;5;34m15\u001b[0m, \u001b[38;5;34m32\u001b[0m)     │             \u001b[38;5;34m0\u001b[0m │\n",
       "├─────────────────────────────────┼────────────────────────┼───────────────┤\n",
       "│ batch_normalization             │ (\u001b[38;5;45mNone\u001b[0m, \u001b[38;5;34m18\u001b[0m, \u001b[38;5;34m15\u001b[0m, \u001b[38;5;34m32\u001b[0m)     │           \u001b[38;5;34m128\u001b[0m │\n",
       "│ (\u001b[38;5;33mBatchNormalization\u001b[0m)            │                        │               │\n",
       "├─────────────────────────────────┼────────────────────────┼───────────────┤\n",
       "│ conv2d_1 (\u001b[38;5;33mConv2D\u001b[0m)               │ (\u001b[38;5;45mNone\u001b[0m, \u001b[38;5;34m16\u001b[0m, \u001b[38;5;34m13\u001b[0m, \u001b[38;5;34m64\u001b[0m)     │        \u001b[38;5;34m18,496\u001b[0m │\n",
       "├─────────────────────────────────┼────────────────────────┼───────────────┤\n",
       "│ batch_normalization_1           │ (\u001b[38;5;45mNone\u001b[0m, \u001b[38;5;34m16\u001b[0m, \u001b[38;5;34m13\u001b[0m, \u001b[38;5;34m64\u001b[0m)     │           \u001b[38;5;34m256\u001b[0m │\n",
       "│ (\u001b[38;5;33mBatchNormalization\u001b[0m)            │                        │               │\n",
       "├─────────────────────────────────┼────────────────────────┼───────────────┤\n",
       "│ conv2d_2 (\u001b[38;5;33mConv2D\u001b[0m)               │ (\u001b[38;5;45mNone\u001b[0m, \u001b[38;5;34m14\u001b[0m, \u001b[38;5;34m11\u001b[0m, \u001b[38;5;34m128\u001b[0m)    │        \u001b[38;5;34m73,856\u001b[0m │\n",
       "├─────────────────────────────────┼────────────────────────┼───────────────┤\n",
       "│ batch_normalization_2           │ (\u001b[38;5;45mNone\u001b[0m, \u001b[38;5;34m14\u001b[0m, \u001b[38;5;34m11\u001b[0m, \u001b[38;5;34m128\u001b[0m)    │           \u001b[38;5;34m512\u001b[0m │\n",
       "│ (\u001b[38;5;33mBatchNormalization\u001b[0m)            │                        │               │\n",
       "├─────────────────────────────────┼────────────────────────┼───────────────┤\n",
       "│ conv2d_3 (\u001b[38;5;33mConv2D\u001b[0m)               │ (\u001b[38;5;45mNone\u001b[0m, \u001b[38;5;34m12\u001b[0m, \u001b[38;5;34m9\u001b[0m, \u001b[38;5;34m256\u001b[0m)     │       \u001b[38;5;34m295,168\u001b[0m │\n",
       "├─────────────────────────────────┼────────────────────────┼───────────────┤\n",
       "│ batch_normalization_3           │ (\u001b[38;5;45mNone\u001b[0m, \u001b[38;5;34m12\u001b[0m, \u001b[38;5;34m9\u001b[0m, \u001b[38;5;34m256\u001b[0m)     │         \u001b[38;5;34m1,024\u001b[0m │\n",
       "│ (\u001b[38;5;33mBatchNormalization\u001b[0m)            │                        │               │\n",
       "├─────────────────────────────────┼────────────────────────┼───────────────┤\n",
       "│ conv2d_4 (\u001b[38;5;33mConv2D\u001b[0m)               │ (\u001b[38;5;45mNone\u001b[0m, \u001b[38;5;34m10\u001b[0m, \u001b[38;5;34m7\u001b[0m, \u001b[38;5;34m256\u001b[0m)     │       \u001b[38;5;34m590,080\u001b[0m │\n",
       "├─────────────────────────────────┼────────────────────────┼───────────────┤\n",
       "│ batch_normalization_4           │ (\u001b[38;5;45mNone\u001b[0m, \u001b[38;5;34m10\u001b[0m, \u001b[38;5;34m7\u001b[0m, \u001b[38;5;34m256\u001b[0m)     │         \u001b[38;5;34m1,024\u001b[0m │\n",
       "│ (\u001b[38;5;33mBatchNormalization\u001b[0m)            │                        │               │\n",
       "├─────────────────────────────────┼────────────────────────┼───────────────┤\n",
       "│ global_max_pooling2d            │ (\u001b[38;5;45mNone\u001b[0m, \u001b[38;5;34m256\u001b[0m)            │             \u001b[38;5;34m0\u001b[0m │\n",
       "│ (\u001b[38;5;33mGlobalMaxPooling2D\u001b[0m)            │                        │               │\n",
       "├─────────────────────────────────┼────────────────────────┼───────────────┤\n",
       "│ dense (\u001b[38;5;33mDense\u001b[0m)                   │ (\u001b[38;5;45mNone\u001b[0m, \u001b[38;5;34m4\u001b[0m)              │         \u001b[38;5;34m1,028\u001b[0m │\n",
       "└─────────────────────────────────┴────────────────────────┴───────────────┘\n"
      ]
     },
     "metadata": {},
     "output_type": "display_data"
    },
    {
     "data": {
      "text/html": [
       "<pre style=\"white-space:pre;overflow-x:auto;line-height:normal;font-family:Menlo,'DejaVu Sans Mono',consolas,'Courier New',monospace\"><span style=\"font-weight: bold\"> Total params: </span><span style=\"color: #00af00; text-decoration-color: #00af00\">981,892</span> (3.75 MB)\n",
       "</pre>\n"
      ],
      "text/plain": [
       "\u001b[1m Total params: \u001b[0m\u001b[38;5;34m981,892\u001b[0m (3.75 MB)\n"
      ]
     },
     "metadata": {},
     "output_type": "display_data"
    },
    {
     "data": {
      "text/html": [
       "<pre style=\"white-space:pre;overflow-x:auto;line-height:normal;font-family:Menlo,'DejaVu Sans Mono',consolas,'Courier New',monospace\"><span style=\"font-weight: bold\"> Trainable params: </span><span style=\"color: #00af00; text-decoration-color: #00af00\">980,420</span> (3.74 MB)\n",
       "</pre>\n"
      ],
      "text/plain": [
       "\u001b[1m Trainable params: \u001b[0m\u001b[38;5;34m980,420\u001b[0m (3.74 MB)\n"
      ]
     },
     "metadata": {},
     "output_type": "display_data"
    },
    {
     "data": {
      "text/html": [
       "<pre style=\"white-space:pre;overflow-x:auto;line-height:normal;font-family:Menlo,'DejaVu Sans Mono',consolas,'Courier New',monospace\"><span style=\"font-weight: bold\"> Non-trainable params: </span><span style=\"color: #00af00; text-decoration-color: #00af00\">1,472</span> (5.75 KB)\n",
       "</pre>\n"
      ],
      "text/plain": [
       "\u001b[1m Non-trainable params: \u001b[0m\u001b[38;5;34m1,472\u001b[0m (5.75 KB)\n"
      ]
     },
     "metadata": {},
     "output_type": "display_data"
    }
   ],
   "source": [
    "print('Input shape:', input_shape)\n",
    "model = build_model(input_shape)\n",
    "model.summary()   "
   ]
  },
  {
   "cell_type": "code",
   "execution_count": 28,
   "id": "28779d48",
   "metadata": {},
   "outputs": [
    {
     "name": "stdout",
     "output_type": "stream",
     "text": [
      "Epoch 1/5\n",
      "\u001b[1m338/338\u001b[0m \u001b[32m━━━━━━━━━━━━━━━━━━━━\u001b[0m\u001b[37m\u001b[0m \u001b[1m9s\u001b[0m 26ms/step - accuracy: 0.9825 - loss: 0.0514 - val_accuracy: 0.9355 - val_loss: 0.3186\n",
      "Epoch 2/5\n",
      "\u001b[1m338/338\u001b[0m \u001b[32m━━━━━━━━━━━━━━━━━━━━\u001b[0m\u001b[37m\u001b[0m \u001b[1m10s\u001b[0m 29ms/step - accuracy: 0.9913 - loss: 0.0297 - val_accuracy: 0.8283 - val_loss: 0.6365\n",
      "Epoch 3/5\n",
      "\u001b[1m338/338\u001b[0m \u001b[32m━━━━━━━━━━━━━━━━━━━━\u001b[0m\u001b[37m\u001b[0m \u001b[1m10s\u001b[0m 29ms/step - accuracy: 0.9904 - loss: 0.0295 - val_accuracy: 0.8106 - val_loss: 1.3714\n",
      "Epoch 4/5\n",
      "\u001b[1m338/338\u001b[0m \u001b[32m━━━━━━━━━━━━━━━━━━━━\u001b[0m\u001b[37m\u001b[0m \u001b[1m10s\u001b[0m 29ms/step - accuracy: 0.9855 - loss: 0.0473 - val_accuracy: 0.9240 - val_loss: 0.4339\n",
      "Epoch 5/5\n",
      "\u001b[1m338/338\u001b[0m \u001b[32m━━━━━━━━━━━━━━━━━━━━\u001b[0m\u001b[37m\u001b[0m \u001b[1m10s\u001b[0m 30ms/step - accuracy: 0.9928 - loss: 0.0217 - val_accuracy: 0.9261 - val_loss: 0.3596\n",
      "Completed training at 14apr2025_0924\n"
     ]
    }
   ],
   "source": [
    "history = model.fit(\n",
    "    train_ds, \n",
    "    validation_data=val_ds,  \n",
    "    epochs=EPOCHS) \n",
    "\n",
    "date_str = dt.now().strftime(\"%d%b%Y_%H%M\").lower()\n",
    "print(f\"Completed training at {date_str}\")"
   ]
  },
  {
   "cell_type": "code",
   "execution_count": 29,
   "id": "ee427ef9",
   "metadata": {},
   "outputs": [
    {
     "name": "stderr",
     "output_type": "stream",
     "text": [
      "WARNING:absl:You are saving your model as an HDF5 file via `model.save()` or `keras.saving.save_model(model)`. This file format is considered legacy. We recommend using instead the native Keras format, e.g. `model.save('my_model.keras')` or `keras.saving.save_model(model, 'my_model.keras')`. \n"
     ]
    },
    {
     "name": "stdout",
     "output_type": "stream",
     "text": [
      "Saving model to kws_model.h5\n"
     ]
    }
   ],
   "source": [
    "if 'model' in globals():\n",
    "\tmodel_file_name = f\"kws_model.h5\" \n",
    "\tprint(f\"Saving model to {model_file_name}\")\n",
    "\tmodel.save(model_file_name, overwrite=True)\n",
    "else:\n",
    "\tprint(\"Error: 'model' is not defined. Please ensure the cell defining the model is executed.\")"
   ]
  },
  {
   "cell_type": "code",
   "execution_count": 30,
   "id": "0909047d",
   "metadata": {},
   "outputs": [
    {
     "name": "stdout",
     "output_type": "stream",
     "text": [
      "\u001b[1m31/31\u001b[0m \u001b[32m━━━━━━━━━━━━━━━━━━━━\u001b[0m\u001b[37m\u001b[0m \u001b[1m0s\u001b[0m 9ms/step\n",
      "Test set accuracy: 92.8%\n"
     ]
    }
   ],
   "source": [
    "## Measure test-set accuracy manually and get values for confusion matrix\n",
    "test_audio = []\n",
    "test_labels = []\n",
    "if is_batched(test_ds):\n",
    "  was_batched=True\n",
    "  test_ds = test_ds.unbatch()\n",
    "else:\n",
    "  was_batched=False\n",
    "for audio, label in test_ds:\n",
    "  test_audio.append(audio.numpy())\n",
    "  test_labels.append(label.numpy())\n",
    "\n",
    "test_audio = np.array(test_audio)\n",
    "test_labels = np.array(test_labels)\n",
    "\n",
    "model_out = model.predict(test_audio)\n",
    "y_pred = np.argmax(model_out, axis=1)\n",
    "y_true = test_labels\n",
    "\n",
    "test_acc = sum(y_pred == y_true) / len(y_true)\n",
    "print(f'Test set accuracy: {test_acc:.1%}')\n",
    "if was_batched:\n",
    "  test_ds = test_ds.batch(32)"
   ]
  },
  {
   "cell_type": "code",
   "execution_count": 31,
   "id": "89f23fc4",
   "metadata": {},
   "outputs": [
    {
     "name": "stdout",
     "output_type": "stream",
     "text": [
      "31/31 - 0s - 8ms/step - accuracy: 0.9282 - loss: 0.3279\n"
     ]
    }
   ],
   "source": [
    "## Measure test-set accuracy with the keras built-in function\n",
    "test_loss, test_acc = model.evaluate(test_ds, verbose=2)\n"
   ]
  },
  {
   "cell_type": "code",
   "execution_count": 32,
   "id": "141be816",
   "metadata": {},
   "outputs": [
    {
     "data": {
      "image/png": "[encoded data removed]",
      "text/plain": [
       "<Figure size 600x600 with 2 Axes>"
      ]
     },
     "metadata": {},
     "output_type": "display_data"
    }
   ],
   "source": [
    "confusion_mtx = tf.math.confusion_matrix(y_true, y_pred) \n",
    "plt.figure(figsize=(6, 6))\n",
    "sns.heatmap(confusion_mtx, xticklabels=label_list, yticklabels=label_list, \n",
    "            annot=True, fmt='g')\n",
    "plt.gca().invert_yaxis() # flip so origin is at bottom left\n",
    "plt.xlabel('Prediction')\n",
    "plt.ylabel('Label')\n",
    "plt.show()"
   ]
  },
  {
   "cell_type": "code",
   "execution_count": 33,
   "id": "ae6278a9",
   "metadata": {},
   "outputs": [
    {
     "name": "stdout",
     "output_type": "stream",
     "text": [
      "True Positive Rate (TPR) for '_silence ': 0.919\n",
      "False Positive Rate (FPR) for '_silence ': 0.00125\n",
      "\n",
      "True Positive Rate (TPR) for '_unknown ': 0.949\n",
      "False Positive Rate (FPR) for '_unknown ': 0.0676\n",
      "\n",
      "True Positive Rate (TPR) for 'down     ': 0.905\n",
      "False Positive Rate (FPR) for 'down     ': 0.0335\n",
      "\n",
      "True Positive Rate (TPR) for 'stop     ': 0.851\n",
      "False Positive Rate (FPR) for 'stop     ': 0.0165\n",
      "\n"
     ]
    }
   ],
   "source": [
    "tpr = np.nan * np.zeros(len(label_list))\n",
    "fpr = np.nan * np.zeros(len(label_list))\n",
    "\n",
    "for i in range(4):\n",
    "  tpr[i] = confusion_mtx[i, i] / np.sum(confusion_mtx[i, :])\n",
    "  fpr[i] = (np.sum(confusion_mtx[:, i]) - confusion_mtx[i, i]) / \\\n",
    "       (np.sum(confusion_mtx) - np.sum(confusion_mtx[i, :]))\n",
    "  print(f\"True Positive Rate (TPR) for '{label_list[i]:9}': {tpr[i]:.3}\")\n",
    "  print(f\"False Positive Rate (FPR) for '{label_list[i]:9}': {fpr[i]:.3}\")\n",
    "  print()"
   ]
  },
  {
   "cell_type": "code",
   "execution_count": 34,
   "id": "d09cc872",
   "metadata": {},
   "outputs": [],
   "source": [
    "info_file_name = model_file_name.split('.')[0] + '.txt'\n",
    "with open(info_file_name, 'w') as fpo:\n",
    "    fpo.write(f\"i16min            = {i16min           }\\n\")\n",
    "    fpo.write(f\"i16max            = {i16max           }\\n\")\n",
    "    fpo.write(f\"fsamp             = {fsamp            }\\n\")\n",
    "    fpo.write(f\"wave_length_ms    = {wave_length_ms   }\\n\")\n",
    "    fpo.write(f\"wave_length_samps = {wave_length_samps}\\n\")\n",
    "    fpo.write(f\"window_size_ms    = {window_size_ms   }\\n\")\n",
    "    fpo.write(f\"window_step_ms    = {window_step_ms   }\\n\")\n",
    "    fpo.write(f\"num_filters       = {num_filters      }\\n\")\n",
    "    fpo.write(f\"use_microfrontend = {use_microfrontend}\\n\")\n",
    "    fpo.write(f\"label_list        = {label_list}\\n\")\n",
    "    fpo.write(f\"spectrogram_shape = {spectrogram.numpy().shape}\\n\")\n",
    "    fpo.write(f\"Test set accuracy =  {test_acc:.1%}\\n\")\n",
    "    for i in range(4):\n",
    "        fpo.write(f\"tpr_{label_list[i]:9} = {tpr[i]:.3}\\n\")\n",
    "        fpo.write(f\"fpr_{label_list[i]:9} = {fpr[i]:.3}\\n\")"
   ]
  },
  {
   "cell_type": "code",
   "execution_count": 35,
   "id": "752b8b49",
   "metadata": {},
   "outputs": [
    {
     "name": "stdout",
     "output_type": "stream",
     "text": [
      "Wrote description to kws_model.txt\n",
      "i16min            = -32768\n",
      "i16max            = 32767\n",
      "fsamp             = 16000\n",
      "wave_length_ms    = 1000\n",
      "wave_length_samps = 16000\n",
      "window_size_ms    = 64\n",
      "window_step_ms    = 48\n",
      "num_filters       = 32\n",
      "use_microfrontend = True\n",
      "label_list        = ['_silence', '_unknown', 'down', 'stop']\n",
      "spectrogram_shape = (32, 20, 32, 1)\n",
      "Test set accuracy =  92.8%\n",
      "tpr__silence  = 0.919\n",
      "fpr__silence  = 0.00125\n",
      "tpr__unknown  = 0.949\n",
      "fpr__unknown  = 0.0676\n",
      "tpr_down      = 0.905\n",
      "fpr_down      = 0.0335\n",
      "tpr_stop      = 0.851\n",
      "fpr_stop      = 0.0165\n"
     ]
    }
   ],
   "source": [
    "print(f\"Wrote description to {info_file_name}\")\n",
    "get_ipython().system('type {info_file_name}')"
   ]
  },
  {
   "cell_type": "code",
   "execution_count": 36,
   "id": "d18c6574",
   "metadata": {},
   "outputs": [
    {
     "data": {
      "image/png": "[encoded data removed]",
      "text/plain": [
       "<Figure size 640x480 with 2 Axes>"
      ]
     },
     "metadata": {},
     "output_type": "display_data"
    },
    {
     "data": {
      "text/plain": [
       "<Figure size 640x480 with 0 Axes>"
      ]
     },
     "metadata": {},
     "output_type": "display_data"
    }
   ],
   "source": [
    "metrics = history.history\n",
    "plt.subplot(2,1,1)\n",
    "plt.semilogy(history.epoch, metrics['loss'], metrics['val_loss'])\n",
    "plt.legend(['training', 'validation'])\n",
    "plt.ylabel('Loss')\n",
    "plt.xlabel('Epoch')\n",
    "plt.subplot(2,1,2)\n",
    "plt.plot(history.epoch, metrics['accuracy'], metrics['val_accuracy'])\n",
    "plt.legend(['training', 'validation'])\n",
    "plt.ylabel('Accuracy')\n",
    "plt.xlabel('Epoch')\n",
    "plt.show()\n",
    "plt.savefig('training_curves.png')"
   ]
  },
  {
   "cell_type": "code",
   "execution_count": 37,
   "id": "feaee2b3",
   "metadata": {},
   "outputs": [
    {
     "name": "stdout",
     "output_type": "stream",
     "text": [
      "31/31 - 0s - 8ms/step - accuracy: 0.9282 - loss: 0.3279\n"
     ]
    },
    {
     "name": "stderr",
     "output_type": "stream",
     "text": [
      "C:\\Users\\Matt\\AppData\\Local\\Packages\\PythonSoftwareFoundation.Python.3.11_qbz5n2kfra8p0\\LocalCache\\local-packages\\Python311\\site-packages\\keras\\src\\trainers\\epoch_iterator.py:151: UserWarning: Your input ran out of data; interrupting training. Make sure that your dataset or generator can generate at least `steps_per_epoch * epochs` batches. You may need to use the `.repeat()` function when building your dataset.\n",
      "  self._interrupted_warning()\n"
     ]
    }
   ],
   "source": [
    "## Measure test-set accuracy with the keras built-in function\n",
    "test_loss, test_acc = model.evaluate(test_ds, verbose=2)"
   ]
  }
 ],
 "metadata": {
  "kernelspec": {
   "display_name": "Python 3",
   "language": "python",
   "name": "python3"
  },
  "language_info": {
   "codemirror_mode": {
    "name": "ipython",
    "version": 3
   },
   "file_extension": ".py",
   "mimetype": "text/x-python",
   "name": "python",
   "nbconvert_exporter": "python",
   "pygments_lexer": "ipython3",
   "version": "3.11.9"
  }
 },
 "nbformat": 4,
 "nbformat_minor": 5
}
