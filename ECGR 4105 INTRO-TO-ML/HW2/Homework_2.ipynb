{
  "nbformat": 4,
  "nbformat_minor": 0,
  "metadata": {
    "colab": {
      "provenance": []
    },
    "kernelspec": {
      "name": "python3",
      "display_name": "Python 3"
    },
    "language_info": {
      "name": "python"
    }
  },
  "cells": [
    {
      "cell_type": "markdown",
      "source": [],
      "metadata": {
        "id": "EHIHBMiOrNvF"
      }
    },
    {
      "cell_type": "markdown",
      "source": [
        "# HomeWork 2\n",
        "\n",
        "# Matthew Anderson | 801203905\n",
        "\n",
        "# Github https://github.com/Mand187/Intro-to-ML\n"
      ],
      "metadata": {
        "id": "sKIWggqrrCRb"
      }
    },
    {
      "cell_type": "code",
      "source": [
        "import numpy as np\n",
        "import pandas as pd\n",
        "import matplotlib.pyplot as plt\n",
        "from sklearn.model_selection import train_test_split\n",
        "from sklearn.preprocessing import MinMaxScaler, StandardScaler"
      ],
      "metadata": {
        "id": "7HlpOeTEbAO0"
      },
      "execution_count": null,
      "outputs": []
    },
    {
      "cell_type": "code",
      "source": [
        "## CSV/Data Processing ##\n",
        "\n",
        "url = \"https://raw.githubusercontent.com/Mand187/Intro-to-ML/master/Data/Housing.csv\"\n",
        "hf = pd.read_csv(url)\n",
        "\n",
        "# Display the first 5 rows of the DataFrame\n",
        "print(hf.head())"
      ],
      "metadata": {
        "colab": {
          "base_uri": "https://localhost:8080/"
        },
        "id": "oWIQ7dzzemrR",
        "outputId": "4b30c831-b8fe-4cf2-85f4-effa385ad41f"
      },
      "execution_count": null,
      "outputs": [
        {
          "output_type": "stream",
          "name": "stdout",
          "text": [
            "      price  area  bedrooms  bathrooms  stories mainroad guestroom basement  \\\n",
            "0  13300000  7420         4          2        3      yes        no       no   \n",
            "1  12250000  8960         4          4        4      yes        no       no   \n",
            "2  12250000  9960         3          2        2      yes        no      yes   \n",
            "3  12215000  7500         4          2        2      yes        no      yes   \n",
            "4  11410000  7420         4          1        2      yes       yes      yes   \n",
            "\n",
            "  hotwaterheating airconditioning  parking prefarea furnishingstatus  \n",
            "0              no             yes        2      yes        furnished  \n",
            "1              no             yes        3       no        furnished  \n",
            "2              no              no        2      yes   semi-furnished  \n",
            "3              no             yes        3      yes        furnished  \n",
            "4              no             yes        2       no        furnished  \n"
          ]
        }
      ]
    },
    {
      "cell_type": "code",
      "source": [
        "def binary_mapping(x):\n",
        "  return x.map({'no' : 0, 'yes' : 1})\n",
        "\n",
        "def modelTrain(inputs, df_training, df_validation, y_train, y_valid, learning_rate, iterations):\n",
        "    training_inputs = df_training[inputs]\n",
        "    x_train = np.c_[np.ones((len(training_inputs), 1)), training_inputs]\n",
        "\n",
        "    validation_inputs = df_validation[inputs]\n",
        "    x_valid = np.c_[np.ones((len(validation_inputs), 1)), validation_inputs]\n",
        "\n",
        "    n = x_train.shape[1]\n",
        "    m_train = len(x_train)\n",
        "    m_valid = len(x_valid)\n",
        "    theta = np.zeros(n)\n",
        "\n",
        "    train_losses = []\n",
        "    valid_losses = []\n",
        "\n",
        "    for i in range(iterations):\n",
        "        h_theta = x_train.dot(theta)\n",
        "        error = np.subtract(h_theta, y_train)\n",
        "        gradient = (1 / m_train) * (x_train.transpose().dot(error))\n",
        "\n",
        "        theta -= (learning_rate * gradient)\n",
        "\n",
        "        train_loss = 1 / (2 * m_train) * np.sum(np.square((h_theta - y_train)))\n",
        "        valid_loss = 1 / (2 * m_valid) * np.sum(np.square((x_valid.dot(theta) - y_valid)))\n",
        "\n",
        "        train_losses.append(train_loss)\n",
        "        valid_losses.append(valid_loss)\n",
        "\n",
        "    return train_losses, valid_losses"
      ],
      "metadata": {
        "id": "VDaK1Yf0zFZA"
      },
      "execution_count": null,
      "outputs": []
    },
    {
      "cell_type": "code",
      "source": [
        "variable_list = ['mainroad', 'guestroom', 'basement', 'hotwaterheating', 'airconditioning', 'prefarea']\n",
        "\n",
        "hf[variable_list] = hf[variable_list].apply(binary_mapping)\n",
        "\n",
        "np.random.seed(0)\n",
        "df_training, df_validation = train_test_split(hf, train_size = 0.8, test_size = 0.2, random_state = 100)\n",
        "\n",
        "y_train = df_training.pop('price')\n",
        "y_valid = df_validation.pop('price')\n",
        "\n",
        "inputs = ['area', 'bedrooms', 'bathrooms', 'stories', 'parking']\n",
        "learning_rate = 0.01\n",
        "iterations = 50\n",
        "\n",
        "trainLoss1A, validLoss1A = modelTrain(inputs, df_training, df_validation, y_train, y_valid, learning_rate, iterations)\n",
        "\n",
        "inputs2 = ['area', 'bedrooms', 'bathrooms', 'stories', 'parking']\n",
        "inputs2 = df_training.columns.tolist()[:-1]\n",
        "\n",
        "trainLoss1B, validLoss1B = modelTrain(inputs2, df_training, df_validation, y_train, y_valid, learning_rate, iterations)"
      ],
      "metadata": {
        "colab": {
          "base_uri": "https://localhost:8080/"
        },
        "id": "Yf0LWV9I4m6-",
        "outputId": "e3cba64f-5f4d-42ea-e011-9d0235b5c3c1"
      },
      "execution_count": null,
      "outputs": [
        {
          "output_type": "stream",
          "name": "stderr",
          "text": [
            "/usr/local/lib/python3.10/dist-packages/pandas/core/arraylike.py:396: RuntimeWarning: overflow encountered in square\n",
            "  result = getattr(ufunc, method)(*inputs, **kwargs)\n",
            "/usr/local/lib/python3.10/dist-packages/pandas/core/arraylike.py:396: RuntimeWarning: overflow encountered in square\n",
            "  result = getattr(ufunc, method)(*inputs, **kwargs)\n"
          ]
        }
      ]
    },
    {
      "cell_type": "code",
      "source": [
        "# Create the plot figure and layout\n",
        "plt.figure(figsize=(10, 5))\n",
        "\n",
        "# First subplot for trainLoss1A and validLoss1A\n",
        "plt.subplot(1, 2, 1)\n",
        "plt.plot(trainLoss1A, label=\"Training Loss\")\n",
        "plt.plot(validLoss1A, label=\"Validation Loss\")\n",
        "plt.xlabel(\"Iteration\")\n",
        "plt.ylabel(\"Loss\")\n",
        "plt.legend()\n",
        "plt.title(\"Training and Validation Loss (1A)\")\n",
        "\n",
        "# Second subplot for trainLoss1B and validLoss1B\n",
        "plt.subplot(1, 2, 2)\n",
        "plt.plot(trainLoss1B, label=\"Training Loss\")\n",
        "plt.plot(validLoss1B, label=\"Validation Loss\")\n",
        "plt.xlabel(\"Iteration\")\n",
        "plt.ylabel(\"Loss\")\n",
        "plt.legend()\n",
        "plt.title(\"Training and Validation Loss (1B)\")\n",
        "\n",
        "# Adjust the layout\n",
        "plt.tight_layout()\n",
        "plt.show()"
      ],
      "metadata": {
        "colab": {
          "base_uri": "https://localhost:8080/",
          "height": 491
        },
        "id": "glVtX2PH7Jwp",
        "outputId": "905ee6c2-a830-4c44-c0a7-384cededcc51"
      },
      "execution_count": null,
      "outputs": [
        {
          "output_type": "display_data",
          "data": {
            "text/plain": [
              "<Figure size 1000x500 with 2 Axes>"
            ],
            "image/png": "[encoded data removed]"
          },
          "metadata": {}
        }
      ]
    }
  ]
}