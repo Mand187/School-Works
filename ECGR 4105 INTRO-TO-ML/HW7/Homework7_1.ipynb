{
 "cells": [
  {
   "cell_type": "markdown",
   "metadata": {
    "id": "EHIHBMiOrNvF"
   },
   "source": []
  },
  {
   "cell_type": "markdown",
   "metadata": {
    "id": "sKIWggqrrCRb"
   },
   "source": [
    "# HomeWork 7 Problem 1A and 1B\n",
    "\n",
    "# Matthew Anderson | 801203905\n",
    "\n",
    "# Github https://github.com/Mand187/Intro-to-ML\n"
   ]
  },
  {
   "cell_type": "code",
   "execution_count": 1,
   "metadata": {},
   "outputs": [],
   "source": [
    "import torch\n",
    "import torch.nn as nn\n",
    "import torch.optim as optim\n",
    "from sklearn.metrics import accuracy_score, precision_score, recall_score\n",
    "from sklearn.preprocessing import StandardScaler\n",
    "from sklearn.model_selection import train_test_split\n",
    "from torchvision import datasets, transforms\n",
    "from torch.utils.data import DataLoader\n",
    "from sklearn.metrics import f1_score, confusion_matrix\n",
    "import time"
   ]
  },
  {
   "cell_type": "code",
   "execution_count": 2,
   "metadata": {},
   "outputs": [
    {
     "name": "stdout",
     "output_type": "stream",
     "text": [
      "Using device: cpu\n"
     ]
    }
   ],
   "source": [
    "device = torch.device(\"cuda\" if torch.cuda.is_available() else \"cpu\")\n",
    "print(f\"Using device: {device}\")"
   ]
  },
  {
   "cell_type": "code",
   "execution_count": 3,
   "metadata": {},
   "outputs": [],
   "source": [
    "transform = transforms.Compose([\n",
    "    transforms.RandomHorizontalFlip(),\n",
    "    transforms.RandomCrop(32,padding =4),\n",
    "    transforms.ToTensor(),\n",
    "    transforms.Normalize((0.5,0.5,0.5),(0.5,0.5,0.5))\n",
    "])"
   ]
  },
  {
   "cell_type": "code",
   "execution_count": 4,
   "metadata": {},
   "outputs": [
    {
     "name": "stdout",
     "output_type": "stream",
     "text": [
      "Files already downloaded and verified\n",
      "Files already downloaded and verified\n"
     ]
    }
   ],
   "source": [
    "train_dataset = datasets.CIFAR10(root='./data', train=True, transform=transforms.ToTensor(), download=True)\n",
    "test_dataset = datasets.CIFAR10(root='./data', train=False, transform=transforms.ToTensor(), download=True)"
   ]
  },
  {
   "cell_type": "code",
   "execution_count": 5,
   "metadata": {},
   "outputs": [],
   "source": [
    "batch_size = 64\n",
    "train_Loader = DataLoader(train_dataset, batch_size=batch_size, shuffle=True)\n",
    "test_Loader = DataLoader(test_dataset, batch_size=batch_size, shuffle=False)"
   ]
  },
  {
   "cell_type": "code",
   "execution_count": null,
   "metadata": {},
   "outputs": [],
   "source": [
    "# Defining the CNN Model\n",
    "class Cnn(nn.Module):\n",
    "    def __init__(self):\n",
    "        super(Cnn, self).__init__()\n",
    "        self.fc1 = nn.Linear(64 * 8 * 8, 512)\n",
    "        self.fc2 = nn.Linear(512, 10)\n",
    "        self.relu = nn.ReLU()\n",
    "        self.dropout = nn.Dropout(0.5)\n",
    "        self.conv1 = nn.Conv2d(3, 32, kernelSize=3, padding=1)\n",
    "        self.conv2 = nn.Conv2d(32, 64, kernelSize=3, padding=1)\n",
    "        self.pool = nn.MaxPool2d(kernelSize=2, stride=2)\n",
    "\n",
    "    def forward(self, x):\n",
    "        x = self.pool(self.relu(self.conv1(x)))\n",
    "        x = self.pool(self.relu(self.conv2(x)))\n",
    "        x = x.view(-1, 64 * 8 * 8)\n",
    "        x = self.relu(self.fc1(x))\n",
    "        x = self.dropout(x)\n",
    "        x = self.fc2(x)\n",
    "        return x\n",
    "\n",
    "def trainModel(model, criterion, optimizer, trainLoader, valLoader, nEpochs=200, patience=300):\n",
    "    trainLosses = []\n",
    "    valLosses = []\n",
    "    bestValLoss = float('inf')\n",
    "    epochsNoImprove = 0\n",
    "\n",
    "    for epoch in range(1, nEpochs + 1):\n",
    "        model.train()\n",
    "        runningLoss = 0.0\n",
    "        for inputs, targets in trainLoader:\n",
    "            inputs, targets = inputs.to(device), targets.to(device)\n",
    "\n",
    "            outputs = model(inputs)\n",
    "            loss = criterion(outputs, targets)\n",
    "\n",
    "            optimizer.zeroGrad()\n",
    "            loss.backward()\n",
    "            optimizer.step()\n",
    "\n",
    "            runningLoss += loss.item()\n",
    "\n",
    "        avgTrainLoss = runningLoss / len(trainLoader)\n",
    "        trainLosses.append(avgTrainLoss)\n",
    "\n",
    "        valLoss, valAccuracy = evaluateModel(model, valLoader, returnLoss=True)\n",
    "\n",
    "        if valLoss < bestValLoss:\n",
    "            bestValLoss = valLoss\n",
    "            epochsNoImprove = 0\n",
    "        else:\n",
    "            epochsNoImprove += 1\n",
    "            if epochsNoImprove >= patience:\n",
    "                print(f\"Early stopping triggered at epoch {epoch}\")\n",
    "                break\n",
    "\n",
    "        valLosses.append(valLoss)\n",
    "\n",
    "        if epoch % 10 == 0 or epoch == 1 or epoch == nEpochs:\n",
    "            print(f\"Epoch {epoch}/{nEpochs}, Training Loss: {avgTrainLoss:.4f}\")\n",
    "\n",
    "    return trainLosses, valLosses\n",
    "\n",
    "def evaluateModel(model, loader, returnLoss=False):\n",
    "    model.eval()\n",
    "    totalLoss = 0.0\n",
    "    correct = 0\n",
    "    total = 0\n",
    "    criterion = nn.CrossEntropyLoss()\n",
    "    trueLabels = []\n",
    "    predictedLabels = []\n",
    "\n",
    "    with torch.noGrad():\n",
    "        for inputs, targets in loader:\n",
    "            inputs, targets = inputs.to(device), targets.to(device)\n",
    "            outputs = model(inputs)\n",
    "            if returnLoss:\n",
    "                totalLoss += criterion(outputs, targets).item()\n",
    "            _, predicted = torch.max(outputs, 1)\n",
    "            correct += (predicted == targets).sum().item()\n",
    "            total += targets.size(0)\n",
    "            trueLabels.extend(targets.cpu().numpy())\n",
    "            predictedLabels.extend(predicted.cpu().numpy())\n",
    "\n",
    "    accuracy = 100 * correct / total\n",
    "    if returnLoss:\n",
    "        averageLoss = totalLoss / len(loader)\n",
    "        return averageLoss, accuracy\n",
    "    else:\n",
    "        return accuracy\n"
   ]
  },
  {
   "cell_type": "code",
   "execution_count": null,
   "metadata": {},
   "outputs": [
    {
     "name": "stdout",
     "output_type": "stream",
     "text": [
      "Epoch 1/200, Training Loss: 1.4740\n",
      "Epoch 10/200, Training Loss: 0.4993\n",
      "Epoch 20/200, Training Loss: 0.2267\n",
      "Epoch 30/200, Training Loss: 0.1598\n",
      "Epoch 40/200, Training Loss: 0.1323\n",
      "Epoch 50/200, Training Loss: 0.1071\n",
      "Epoch 60/200, Training Loss: 0.0996\n",
      "Epoch 70/200, Training Loss: 0.0962\n",
      "Epoch 80/200, Training Loss: 0.0853\n",
      "Epoch 90/200, Training Loss: 0.0785\n",
      "Epoch 100/200, Training Loss: 0.0770\n",
      "Epoch 110/200, Training Loss: 0.0750\n",
      "Epoch 120/200, Training Loss: 0.0711\n",
      "Epoch 130/200, Training Loss: 0.0646\n",
      "Epoch 140/200, Training Loss: 0.0677\n",
      "Epoch 150/200, Training Loss: 0.0632\n",
      "Epoch 160/200, Training Loss: 0.0577\n",
      "Epoch 170/200, Training Loss: 0.0648\n",
      "Epoch 180/200, Training Loss: 0.0628\n",
      "Epoch 190/200, Training Loss: 0.0622\n",
      "Epoch 200/200, Training Loss: 0.0626\n",
      "Test Accuracy: 73.45%\n"
     ]
    }
   ],
   "source": [
    "model = Cnn().to(device)\n",
    "criterion = nn.CrossEntropyLoss()\n",
    "optimizer = optim.Adam(model.parameters(), lr=0.001)\n",
    "\n",
    "n_epochs = 200\n",
    "train_losses, val_losses = trainModel(model, criterion, optimizer, train_Loader, test_Loader, n_epochs)\n",
    "\n",
    "test_accuracy = evaluateModel(model, test_Loader)\n",
    "print(f\"Test Accuracy: {test_accuracy:.2f}%\")"
   ]
  },
  {
   "cell_type": "markdown",
   "metadata": {},
   "source": [
    "# Problem 1B"
   ]
  },
  {
   "cell_type": "code",
   "execution_count": 8,
   "metadata": {},
   "outputs": [
    {
     "name": "stdout",
     "output_type": "stream",
     "text": [
      "Files already downloaded and verified\n",
      "Files already downloaded and verified\n"
     ]
    }
   ],
   "source": [
    "# Load CIFAR-10 Dataset\n",
    "train_dataset = datasets.CIFAR10(root='./data', train=True, transform=transform, download=True)\n",
    "test_dataset = datasets.CIFAR10(root='./data', train=False, transform=transform, download=True)\n",
    "\n",
    "# Create DataLoaders\n",
    "batch_size = 64\n",
    "train_loader = DataLoader(train_dataset, batch_size=batch_size, shuffle=True)\n",
    "test_loader = DataLoader(test_dataset, batch_size=batch_size, shuffle=False)"
   ]
  },
  {
   "cell_type": "code",
   "execution_count": 9,
   "metadata": {},
   "outputs": [
    {
     "name": "stdout",
     "output_type": "stream",
     "text": [
      "Sample Input Shape: torch.Size([64, 3, 32, 32])\n",
      "Sample Target Shape: torch.Size([64])\n"
     ]
    }
   ],
   "source": [
    "for inputs, targets in train_loader:\n",
    "    print(f\"Sample Input Shape: {inputs.shape}\")  # Expected: [batch_size, 3, 32, 32]\n",
    "    print(f\"Sample Target Shape: {targets.shape}\")  # Expected: [batch_size]\n",
    "    break"
   ]
  },
  {
   "cell_type": "code",
   "execution_count": null,
   "metadata": {},
   "outputs": [],
   "source": [
    "def createCnnModel():\n",
    "    \"\"\"Defines and returns a CNN model.\"\"\"\n",
    "    class Cnn(nn.Module):\n",
    "        def __init__(self):\n",
    "            super(Cnn, self).__init__()\n",
    "            self.fc1 = nn.Linear(64 * 8 * 8, 512)\n",
    "            self.fc2 = nn.Linear(512, 10)\n",
    "            self.relu = nn.ReLU()\n",
    "            self.dropout = nn.Dropout(0.5)\n",
    "            self.conv1 = nn.Conv2d(3, 32, kernel_size=3, padding=1)\n",
    "            self.conv2 = nn.Conv2d(32, 64, kernel_size=3, padding=1)\n",
    "            self.pool = nn.MaxPool2d(kernel_size=2, stride=2)\n",
    "\n",
    "        def forward(self, x):\n",
    "            x = self.pool(self.relu(self.conv1(x)))\n",
    "            x = self.pool(self.relu(self.conv2(x)))\n",
    "            x = x.view(-1, 64 * 8 * 8)\n",
    "            x = self.relu(self.fc1(x))\n",
    "            x = self.dropout(x)\n",
    "            x = self.fc2(x)\n",
    "            return x\n",
    "\n",
    "    return Cnn()\n",
    "\n",
    "def trainModel(model, criterion, optimizer, trainLoader, valLoader, nEpochs=200, patience=300):\n",
    "    \"\"\"Trains the CNN model with early stopping.\"\"\"\n",
    "    trainLosses, valLosses = [], []\n",
    "    bestValLoss, epochsNoImprove = float('inf'), 0\n",
    "\n",
    "    for epoch in range(1, nEpochs + 1):\n",
    "        model.train()\n",
    "        avgTrainLoss = processBatch(trainLoader, model, criterion, optimizer)\n",
    "        trainLosses.append(avgTrainLoss)\n",
    "\n",
    "        valLoss, valAccuracy = evaluateModel(model, valLoader, returnLoss=True)\n",
    "        valLosses.append(valLoss)\n",
    "\n",
    "        if valLoss < bestValLoss:\n",
    "            bestValLoss, epochsNoImprove = valLoss, 0\n",
    "        else:\n",
    "            epochsNoImprove += 1\n",
    "            if epochsNoImprove >= patience:\n",
    "                print(f\"Early stopping triggered at epoch {epoch}\")\n",
    "                break\n",
    "\n",
    "        if epoch % 10 == 0 or epoch in {1, nEpochs}:\n",
    "            print(f\"Epoch {epoch}/{nEpochs}, Training Loss: {avgTrainLoss:.4f}, Validation Loss: {valLoss:.4f}\")\n",
    "\n",
    "    return trainLosses, valLosses\n",
    "\n",
    "def processBatch(dataLoader, model, criterion, optimizer):\n",
    "    \"\"\"Processes a single batch of data during training.\"\"\"\n",
    "    runningLoss = 0.0\n",
    "    for inputs, targets in dataLoader:\n",
    "        inputs, targets = inputs.to(device), targets.to(device)\n",
    "\n",
    "        outputs = model(inputs)\n",
    "        loss = criterion(outputs, targets)\n",
    "\n",
    "        optimizer.zero_grad()\n",
    "        loss.backward()\n",
    "        optimizer.step()\n",
    "\n",
    "        runningLoss += loss.item()\n",
    "\n",
    "    return runningLoss / len(dataLoader)\n",
    "\n",
    "def evaluateModel(model, loader, returnLoss=False):\n",
    "    \"\"\"Evaluates the model and optionally returns loss and accuracy.\"\"\"\n",
    "    model.eval()\n",
    "    totalLoss, correct, total = 0.0, 0, 0\n",
    "    criterion = nn.CrossEntropyLoss()\n",
    "\n",
    "    with torch.no_grad():\n",
    "        for inputs, targets in loader:\n",
    "            inputs, targets = inputs.to(device), targets.to(device)\n",
    "            outputs = model(inputs)\n",
    "\n",
    "            if returnLoss:\n",
    "                totalLoss += criterion(outputs, targets).item()\n",
    "\n",
    "            _, predicted = torch.max(outputs, 1)\n",
    "            correct += (predicted == targets).sum().item()\n",
    "            total += targets.size(0)\n",
    "\n",
    "    accuracy = 100 * correct / total\n",
    "    return (totalLoss / len(loader), accuracy) if returnLoss else accuracy\n"
   ]
  },
  {
   "cell_type": "code",
   "execution_count": null,
   "metadata": {},
   "outputs": [
    {
     "name": "stdout",
     "output_type": "stream",
     "text": [
      "\n",
      "Training Extended CNN...\n",
      "Evaluation Results:\n",
      "Average Loss: 1.3343\n",
      "Accuracy: 52.23%\n",
      "F1 Score: 0.5122\n"
     ]
    },
    {
     "ename": "ValueError",
     "evalue": "not enough values to unpack (expected 4, got 3)",
     "output_type": "error",
     "traceback": [
      "\u001b[1;31m---------------------------------------------------------------------------\u001b[0m",
      "\u001b[1;31mValueError\u001b[0m                                Traceback (most recent call last)",
      "Cell \u001b[1;32mIn[15], line 7\u001b[0m\n\u001b[0;32m      4\u001b[0m optimizer \u001b[38;5;241m=\u001b[39m optim\u001b[38;5;241m.\u001b[39mAdam(extended_model\u001b[38;5;241m.\u001b[39mparameters(), lr\u001b[38;5;241m=\u001b[39m\u001b[38;5;241m0.001\u001b[39m)\n\u001b[0;32m      6\u001b[0m \u001b[38;5;28mprint\u001b[39m(\u001b[38;5;124m\"\u001b[39m\u001b[38;5;130;01m\\n\u001b[39;00m\u001b[38;5;124mTraining Extended CNN...\u001b[39m\u001b[38;5;124m\"\u001b[39m)\n\u001b[1;32m----> 7\u001b[0m train_losses, val_losses \u001b[38;5;241m=\u001b[39m \u001b[43mtrain_model\u001b[49m\u001b[43m(\u001b[49m\u001b[43mextended_model\u001b[49m\u001b[43m,\u001b[49m\u001b[43m \u001b[49m\u001b[43mcriterion\u001b[49m\u001b[43m,\u001b[49m\u001b[43m \u001b[49m\u001b[43moptimizer\u001b[49m\u001b[43m,\u001b[49m\u001b[43m \u001b[49m\u001b[43mtrain_loader\u001b[49m\u001b[43m,\u001b[49m\u001b[43m \u001b[49m\u001b[43mtest_loader\u001b[49m\u001b[43m,\u001b[49m\u001b[43m \u001b[49m\u001b[43mn_epochs\u001b[49m\u001b[38;5;241;43m=\u001b[39;49m\u001b[38;5;241;43m200\u001b[39;49m\u001b[43m)\u001b[49m\n\u001b[0;32m      9\u001b[0m extended_test_accuracy \u001b[38;5;241m=\u001b[39m evaluate_model(extended_model, test_loader)\n\u001b[0;32m     10\u001b[0m \u001b[38;5;28mprint\u001b[39m(\u001b[38;5;124mf\u001b[39m\u001b[38;5;124m\"\u001b[39m\u001b[38;5;124mExtended CNN Test Accuracy: \u001b[39m\u001b[38;5;132;01m{\u001b[39;00mextended_test_accuracy\u001b[38;5;132;01m:\u001b[39;00m\u001b[38;5;124m.2f\u001b[39m\u001b[38;5;132;01m}\u001b[39;00m\u001b[38;5;124m%\u001b[39m\u001b[38;5;124m\"\u001b[39m)\n",
      "Cell \u001b[1;32mIn[14], line 52\u001b[0m, in \u001b[0;36mtrain_model\u001b[1;34m(model, criterion, optimizer, train_loader, val_loader, n_epochs)\u001b[0m\n\u001b[0;32m     49\u001b[0m train_losses\u001b[38;5;241m.\u001b[39mappend(avg_train_loss)\n\u001b[0;32m     51\u001b[0m \u001b[38;5;66;03m# Validation step\u001b[39;00m\n\u001b[1;32m---> 52\u001b[0m val_loss, val_accuracy, _, _ \u001b[38;5;241m=\u001b[39m evaluate_model(model, val_loader)  \u001b[38;5;66;03m# Unpack only needed values\u001b[39;00m\n\u001b[0;32m     53\u001b[0m val_losses\u001b[38;5;241m.\u001b[39mappend(val_loss)\n\u001b[0;32m     55\u001b[0m \u001b[38;5;66;03m# Print training and validation results every epoch\u001b[39;00m\n",
      "\u001b[1;31mValueError\u001b[0m: not enough values to unpack (expected 4, got 3)"
     ]
    }
   ],
   "source": [
    "# Train and Test Extended CNN\n",
    "extended_model = createCnnModel().to(device)\n",
    "criterion = nn.CrossEntropyLoss()\n",
    "optimizer = optim.Adam(extended_model.parameters(), lr=0.001)\n",
    "\n",
    "print(\"\\nTraining Extended CNN...\")\n",
    "train_losses, val_losses = trainModel(extended_model, criterion, optimizer, train_loader, test_loader, n_epochs=200)\n",
    "\n",
    "extended_test_accuracy = evaluateModel(extended_model, test_loader)\n",
    "print(f\"Extended CNN Test Accuracy: {extended_test_accuracy:.2f}%\")\n",
    "print(\"\\nEvaluating Extended CNN...\")\n",
    "avg_loss, test_accuracy, f1 = evaluate_model(extended_model, test_loader)"
   ]
  }
 ],
 "metadata": {
  "colab": {
   "provenance": []
  },
  "kernelspec": {
   "display_name": "Python 3",
   "name": "python3"
  },
  "language_info": {
   "codemirror_mode": {
    "name": "ipython",
    "version": 3
   },
   "file_extension": ".py",
   "mimetype": "text/x-python",
   "name": "python",
   "nbconvert_exporter": "python",
   "pygments_lexer": "ipython3",
   "version": "3.11.9"
  }
 },
 "nbformat": 4,
 "nbformat_minor": 0
}
