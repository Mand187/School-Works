{
 "cells": [
  {
   "cell_type": "markdown",
   "id": "2411e8b2",
   "metadata": {},
   "source": [
    "# HomeWork 5 Juypter Book\n",
    "\n",
    "# Matthew Anderson | 801203905\n",
    "\n",
    "# Github https://github.com/Mand187/Deep-Learning\n",
    "\n",
    "NOTE FOR GRADER : THIS NOTEBOOK REQUIRES MULTIPLE FILES AS OUTLINE IN THE IMPORT LIST, OTHERWISE THIS WILL NOT WORK"
   ]
  },
  {
   "cell_type": "markdown",
   "id": "bdee703b",
   "metadata": {},
   "source": [
    "# Problem 1\n",
    "\n",
    "Your goal is to design a Vision Transformer architecture from scratch tailored for CIFAR-100, which consists of 100 classes and 32x32 RGB images, and then analyze how different configurations impact computational complexity and performance compared to a ResNet-18 baseline. Begin by creating a ViT with patch embedding, transformer encoder blocks, and a classification head, experimenting with configurations such as patch sizes of 4x4 and 8x8, embedding dimensions of 256 and 512, transformer layers of 4 and 8, attention heads of 2 and 4, and an MLP hidden dimension set to four times the embedding dimension (e.g., 256 for an embedding dimension of 128). Write a complete PyTorch script to train your ViT on CIFAR-100, incorporating data loading with torchvision.datasets. CIFAR100 and standard training hyperparameters like a batch size of 64, 20-50 epochs, and an Adam optimizer with a learning rate of 0.001. Next, analyze the computational complexity by calculating the theoretical number of parameters for each configuration, estimating FLOPs per forward pass using a tool like torchinfo or manual computation, and measuring training time. For comparison, implement or use a pretrained ResNet-18 from torchvision.models, train it on CIFAR-100 with the same hyperparameters, and evaluate test accuracy after 10 epochs, number of parameters, FLOPs, and training time per epoch against your ViT configurations. In your report, include a table summarizing results for at least four ViT configurations and ResNet-18, and discuss the trade-offs between accuracy, model size, and computational complexity, explaining why certain configurations might outperform or underperform ResNet-18."
   ]
  },
  {
   "cell_type": "code",
   "execution_count": 3,
   "id": "ba61cee7",
   "metadata": {},
   "outputs": [],
   "source": [
    "%load_ext autoreload\n",
    "%reload_ext autoreload\n",
    "%autoreload 2\n",
    "\n",
    "from model.VIT import VisionTransformer\n",
    "from model.ResNet18 import ResNet18\n",
    "from data.dataloader import *\n",
    "from training.trainII import *\n",
    "from training.basicEval import *\n",
    "\n"
   ]
  },
  {
   "cell_type": "code",
   "execution_count": 4,
   "id": "b530df33",
   "metadata": {},
   "outputs": [],
   "source": [
    "LEARNING_RATE = 0.001\n",
    "NUM_EPOCH = 30\n",
    "set_seed()"
   ]
  },
  {
   "cell_type": "code",
   "execution_count": 5,
   "id": "098f8adc",
   "metadata": {},
   "outputs": [
    {
     "name": "stdout",
     "output_type": "stream",
     "text": [
      "Files already downloaded and verified\n",
      "Files already downloaded and verified\n"
     ]
    }
   ],
   "source": [
    "trainLoaderVIT, testLoaderVIT = getDataLoaders(\n",
    "    dataset_name='cifar100',\n",
    "    batch_size=128,\n",
    "    image_size=224,    # Resize to 224x224 for ViT\n",
    "    num_workers=2,\n",
    ")"
   ]
  },
  {
   "cell_type": "code",
   "execution_count": 6,
   "id": "96442f81",
   "metadata": {},
   "outputs": [
    {
     "name": "stdout",
     "output_type": "stream",
     "text": [
      "Files already downloaded and verified\n",
      "Files already downloaded and verified\n"
     ]
    }
   ],
   "source": [
    "trainLoaderResNet, testLoaderResNet = getDataLoaders(\n",
    "    dataset_name='cifar100',\n",
    "    batch_size=128,\n",
    "    image_size=32,     # Use 32x32 for ResNet\n",
    "    num_workers=2,\n",
    ")"
   ]
  },
  {
   "cell_type": "code",
   "execution_count": 8,
   "id": "e1e9d58c",
   "metadata": {},
   "outputs": [
    {
     "data": {
      "text/plain": [
       "============================================================================================================================================\n",
       "Layer (type:depth-idx)                   Input Shape               Output Shape              Param #                   Mult-Adds\n",
       "============================================================================================================================================\n",
       "VisionTransformer                        [1, 3, 224, 224]          [1, 100]                  50,688                    --\n",
       "├─PatchEmbedding: 1-1                    [1, 3, 224, 224]          [1, 196, 256]             --                        --\n",
       "│    └─Conv2d: 2-1                       [1, 3, 224, 224]          [1, 256, 14, 14]          196,864                   38,585,344\n",
       "├─Dropout: 1-2                           [1, 197, 256]             [1, 197, 256]             --                        --\n",
       "├─Sequential: 1-3                        [1, 197, 256]             [1, 197, 256]             --                        --\n",
       "│    └─TransformerEncoder: 2-2           [1, 197, 256]             [1, 197, 256]             --                        --\n",
       "│    │    └─LayerNorm: 3-1               [1, 197, 256]             [1, 197, 256]             512                       512\n",
       "│    │    └─MultiheadAttention: 3-2      [1, 197, 256]             [1, 197, 256]             263,168                   0\n",
       "│    │    └─LayerNorm: 3-3               [1, 197, 256]             [1, 197, 256]             512                       512\n",
       "│    │    └─Sequential: 3-4              [1, 197, 256]             [1, 197, 256]             262,912                   262,912\n",
       "│    └─TransformerEncoder: 2-3           [1, 197, 256]             [1, 197, 256]             --                        --\n",
       "│    │    └─LayerNorm: 3-5               [1, 197, 256]             [1, 197, 256]             512                       512\n",
       "│    │    └─MultiheadAttention: 3-6      [1, 197, 256]             [1, 197, 256]             263,168                   0\n",
       "│    │    └─LayerNorm: 3-7               [1, 197, 256]             [1, 197, 256]             512                       512\n",
       "│    │    └─Sequential: 3-8              [1, 197, 256]             [1, 197, 256]             262,912                   262,912\n",
       "│    └─TransformerEncoder: 2-4           [1, 197, 256]             [1, 197, 256]             --                        --\n",
       "│    │    └─LayerNorm: 3-9               [1, 197, 256]             [1, 197, 256]             512                       512\n",
       "│    │    └─MultiheadAttention: 3-10     [1, 197, 256]             [1, 197, 256]             263,168                   0\n",
       "│    │    └─LayerNorm: 3-11              [1, 197, 256]             [1, 197, 256]             512                       512\n",
       "│    │    └─Sequential: 3-12             [1, 197, 256]             [1, 197, 256]             262,912                   262,912\n",
       "│    └─TransformerEncoder: 2-5           [1, 197, 256]             [1, 197, 256]             --                        --\n",
       "│    │    └─LayerNorm: 3-13              [1, 197, 256]             [1, 197, 256]             512                       512\n",
       "│    │    └─MultiheadAttention: 3-14     [1, 197, 256]             [1, 197, 256]             263,168                   0\n",
       "│    │    └─LayerNorm: 3-15              [1, 197, 256]             [1, 197, 256]             512                       512\n",
       "│    │    └─Sequential: 3-16             [1, 197, 256]             [1, 197, 256]             262,912                   262,912\n",
       "│    └─TransformerEncoder: 2-6           [1, 197, 256]             [1, 197, 256]             --                        --\n",
       "│    │    └─LayerNorm: 3-17              [1, 197, 256]             [1, 197, 256]             512                       512\n",
       "│    │    └─MultiheadAttention: 3-18     [1, 197, 256]             [1, 197, 256]             263,168                   0\n",
       "│    │    └─LayerNorm: 3-19              [1, 197, 256]             [1, 197, 256]             512                       512\n",
       "│    │    └─Sequential: 3-20             [1, 197, 256]             [1, 197, 256]             262,912                   262,912\n",
       "│    └─TransformerEncoder: 2-7           [1, 197, 256]             [1, 197, 256]             --                        --\n",
       "│    │    └─LayerNorm: 3-21              [1, 197, 256]             [1, 197, 256]             512                       512\n",
       "│    │    └─MultiheadAttention: 3-22     [1, 197, 256]             [1, 197, 256]             263,168                   0\n",
       "│    │    └─LayerNorm: 3-23              [1, 197, 256]             [1, 197, 256]             512                       512\n",
       "│    │    └─Sequential: 3-24             [1, 197, 256]             [1, 197, 256]             262,912                   262,912\n",
       "├─LayerNorm: 1-4                         [1, 197, 256]             [1, 197, 256]             512                       512\n",
       "├─Linear: 1-5                            [1, 256]                  [1, 100]                  25,700                    25,700\n",
       "============================================================================================================================================\n",
       "Total params: 3,436,388\n",
       "Trainable params: 3,436,388\n",
       "Non-trainable params: 0\n",
       "Total mult-adds (Units.MEGABYTES): 40.20\n",
       "============================================================================================================================================\n",
       "Input size (MB): 0.60\n",
       "Forward/backward pass size (MB): 12.91\n",
       "Params size (MB): 7.23\n",
       "Estimated Total Size (MB): 20.74\n",
       "============================================================================================================================================"
      ]
     },
     "execution_count": 8,
     "metadata": {},
     "output_type": "execute_result"
    }
   ],
   "source": [
    "from torchinfo import summary\n",
    "\n",
    "model = VisionTransformer(\n",
    "    image_size=224,\n",
    "    patch_size=16,\n",
    "    num_classes=100,\n",
    "    embed_dim=256,\n",
    "    num_heads=4,\n",
    "    num_layers=6,\n",
    "    mlp_dim=512\n",
    ")\n",
    "\n",
    "# Output model summary\n",
    "summary(\n",
    "    model,\n",
    "    input_size=(1, 3, 224, 224),  # Batch size of 1, 3 color channels, 224x224 image\n",
    "    col_names=[\"input_size\", \"output_size\", \"num_params\", \"mult_adds\"],\n",
    "    depth=3,  # Adjust depth for detailed layer information\n",
    "    device=\"cpu\"  # Change to \"cuda\" if using a GPU\n",
    ")\n"
   ]
  },
  {
   "cell_type": "code",
   "execution_count": null,
   "id": "8334d61c",
   "metadata": {},
   "outputs": [],
   "source": [
    "VisionTransformer(\n",
    "    image_size=224,\n",
    "    patch_size=8,\n",
    "    num_classes=100,\n",
    "    embed_dim=256,\n",
    "    num_heads=2,\n",
    "    num_layers=4,\n",
    "    mlp_dim=512        # 2x embed_dim\n",
    ")\n",
    "\n",
    "summary(\n",
    "    model,\n",
    "    input_size=(1, 3, 224, 224),  # Batch size of 1, 3 color channels, 224x224 image\n",
    "    col_names=[\"input_size\", \"output_size\", \"num_params\", \"mult_adds\"],\n",
    "    depth=3,  # Adjust depth for detailed layer information\n",
    "    device=\"cpu\"  # Change to \"cuda\" if using a GPU\n",
    ")"
   ]
  },
  {
   "cell_type": "code",
   "execution_count": null,
   "id": "2a61c2a9",
   "metadata": {},
   "outputs": [],
   "source": [
    "VisionTransformer(\n",
    "    image_size=224,\n",
    "    patch_size=8,\n",
    "    num_classes=100,\n",
    "    embed_dim=256,\n",
    "    num_heads=4,\n",
    "    num_layers=4,\n",
    "    mlp_dim=1024       # 4x embed_dim\n",
    ")\n",
    "\n",
    "\n",
    "summary(\n",
    "    model,\n",
    "    input_size=(1, 3, 224, 224),  # Batch size of 1, 3 color channels, 224x224 image\n",
    "    col_names=[\"input_size\", \"output_size\", \"num_params\", \"mult_adds\"],\n",
    "    depth=3,  # Adjust depth for detailed layer information\n",
    "    device=\"cpu\"  # Change to \"cuda\" if using a GPU\n",
    ")"
   ]
  },
  {
   "cell_type": "code",
   "execution_count": null,
   "id": "ff96beb1",
   "metadata": {},
   "outputs": [],
   "source": [
    "VisionTransformer(\n",
    "    image_size=224,\n",
    "    patch_size=8,\n",
    "    num_classes=100,\n",
    "    embed_dim=256,\n",
    "    num_heads=2,\n",
    "    num_layers=4,\n",
    "    mlp_dim=512        # 2x embed_dim\n",
    ")\n",
    "\n",
    "\n",
    "summary(\n",
    "    model,\n",
    "    input_size=(1, 3, 224, 224),  # Batch size of 1, 3 color channels, 224x224 image\n",
    "    col_names=[\"input_size\", \"output_size\", \"num_params\", \"mult_adds\"],\n",
    "    depth=3,  # Adjust depth for detailed layer information\n",
    "    device=\"cpu\"  # Change to \"cuda\" if using a GPU\n",
    ")"
   ]
  },
  {
   "cell_type": "code",
   "execution_count": null,
   "id": "18208e86",
   "metadata": {},
   "outputs": [],
   "source": [
    "model = ResNet18()\n",
    "\n",
    "summary(\n",
    "    model,\n",
    "    input_size=(1, 3, 224, 224),  # Batch size of 1, 3 color channels, 224x224 image\n",
    "    col_names=[\"input_size\", \"output_size\", \"num_params\", \"mult_adds\"],\n",
    "    depth=3,  # Adjust depth for detailed layer information\n",
    "    device=\"cpu\"  # Change to \"cuda\" if using a GPU\n",
    ")"
   ]
  }
 ],
 "metadata": {
  "kernelspec": {
   "display_name": "Python 3",
   "language": "python",
   "name": "python3"
  },
  "language_info": {
   "codemirror_mode": {
    "name": "ipython",
    "version": 3
   },
   "file_extension": ".py",
   "mimetype": "text/x-python",
   "name": "python",
   "nbconvert_exporter": "python",
   "pygments_lexer": "ipython3",
   "version": "3.11.9"
  }
 },
 "nbformat": 4,
 "nbformat_minor": 5
}
